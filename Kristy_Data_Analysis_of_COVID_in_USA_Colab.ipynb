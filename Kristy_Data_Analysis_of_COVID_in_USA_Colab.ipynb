{
  "nbformat": 4,
  "nbformat_minor": 0,
  "metadata": {
    "colab": {
      "name": " Kristy - Data Analysis of COVID in USA  Colab.ipynb",
      "provenance": [],
      "collapsed_sections": [],
      "authorship_tag": "ABX9TyNmpIo0USAxxW/wVSBmFsOd",
      "include_colab_link": true
    },
    "kernelspec": {
      "name": "python3",
      "display_name": "Python 3"
    }
  },
  "cells": [
    {
      "cell_type": "markdown",
      "metadata": {
        "id": "view-in-github",
        "colab_type": "text"
      },
      "source": [
        "<a href=\"https://colab.research.google.com/github/Kristyyy/covid-19-data/blob/master/Kristy_Data_Analysis_of_COVID_in_USA_Colab.ipynb\" target=\"_parent\"><img src=\"https://colab.research.google.com/assets/colab-badge.svg\" alt=\"Open In Colab\"/></a>"
      ]
    },
    {
      "cell_type": "markdown",
      "metadata": {
        "id": "5hyfL2HcQqC1",
        "colab_type": "text"
      },
      "source": [
        "### Author: Fang Jung Lin (Kristy)\n",
        "### Purpose: Data Analysis of COVID in USA"
      ]
    },
    {
      "cell_type": "markdown",
      "metadata": {
        "id": "4qJhkcOcQ6-k",
        "colab_type": "text"
      },
      "source": [
        "### Import all libraries"
      ]
    },
    {
      "cell_type": "code",
      "metadata": {
        "id": "N0slpnSrQ9VL",
        "colab_type": "code",
        "outputId": "54f24d8d-336d-49d1-f821-af6c2ac50e03",
        "colab": {
          "base_uri": "https://localhost:8080/",
          "height": 496
        }
      },
      "source": [
        "import pandas as pd\n",
        "import numpy as np\n",
        "\n",
        "import matplotlib.pyplot as plt\n",
        "import seaborn as sns\n",
        "from pandas.plotting import autocorrelation_plot\n",
        "!pip install geopandas\n",
        "import geopandas as gpd"
      ],
      "execution_count": 0,
      "outputs": [
        {
          "output_type": "stream",
          "text": [
            "/usr/local/lib/python3.6/dist-packages/statsmodels/tools/_testing.py:19: FutureWarning: pandas.util.testing is deprecated. Use the functions in the public API at pandas.testing instead.\n",
            "  import pandas.util.testing as tm\n"
          ],
          "name": "stderr"
        },
        {
          "output_type": "stream",
          "text": [
            "Collecting geopandas\n",
            "\u001b[?25l  Downloading https://files.pythonhosted.org/packages/83/c5/3cf9cdc39a6f2552922f79915f36b45a95b71fd343cfc51170a5b6ddb6e8/geopandas-0.7.0-py2.py3-none-any.whl (928kB)\n",
            "\u001b[K     |████████████████████████████████| 931kB 2.8MB/s \n",
            "\u001b[?25hCollecting pyproj>=2.2.0\n",
            "\u001b[?25l  Downloading https://files.pythonhosted.org/packages/ce/37/705ee471f71130d4ceee41bbcb06f3b52175cb89273cbb5755ed5e6374e0/pyproj-2.6.0-cp36-cp36m-manylinux2010_x86_64.whl (10.4MB)\n",
            "\u001b[K     |████████████████████████████████| 10.4MB 46.9MB/s \n",
            "\u001b[?25hRequirement already satisfied: shapely in /usr/local/lib/python3.6/dist-packages (from geopandas) (1.7.0)\n",
            "Requirement already satisfied: pandas>=0.23.0 in /usr/local/lib/python3.6/dist-packages (from geopandas) (1.0.3)\n",
            "Collecting fiona\n",
            "\u001b[?25l  Downloading https://files.pythonhosted.org/packages/ec/20/4e63bc5c6e62df889297b382c3ccd4a7a488b00946aaaf81a118158c6f09/Fiona-1.8.13.post1-cp36-cp36m-manylinux1_x86_64.whl (14.7MB)\n",
            "\u001b[K     |████████████████████████████████| 14.7MB 312kB/s \n",
            "\u001b[?25hRequirement already satisfied: numpy>=1.13.3 in /usr/local/lib/python3.6/dist-packages (from pandas>=0.23.0->geopandas) (1.18.2)\n",
            "Requirement already satisfied: pytz>=2017.2 in /usr/local/lib/python3.6/dist-packages (from pandas>=0.23.0->geopandas) (2018.9)\n",
            "Requirement already satisfied: python-dateutil>=2.6.1 in /usr/local/lib/python3.6/dist-packages (from pandas>=0.23.0->geopandas) (2.8.1)\n",
            "Requirement already satisfied: six>=1.7 in /usr/local/lib/python3.6/dist-packages (from fiona->geopandas) (1.12.0)\n",
            "Requirement already satisfied: attrs>=17 in /usr/local/lib/python3.6/dist-packages (from fiona->geopandas) (19.3.0)\n",
            "Collecting cligj>=0.5\n",
            "  Downloading https://files.pythonhosted.org/packages/e4/be/30a58b4b0733850280d01f8bd132591b4668ed5c7046761098d665ac2174/cligj-0.5.0-py3-none-any.whl\n",
            "Requirement already satisfied: click<8,>=4.0 in /usr/local/lib/python3.6/dist-packages (from fiona->geopandas) (7.1.1)\n",
            "Collecting munch\n",
            "  Downloading https://files.pythonhosted.org/packages/cc/ab/85d8da5c9a45e072301beb37ad7f833cd344e04c817d97e0cc75681d248f/munch-2.5.0-py2.py3-none-any.whl\n",
            "Collecting click-plugins>=1.0\n",
            "  Downloading https://files.pythonhosted.org/packages/e9/da/824b92d9942f4e472702488857914bdd50f73021efea15b4cad9aca8ecef/click_plugins-1.1.1-py2.py3-none-any.whl\n",
            "Installing collected packages: pyproj, cligj, munch, click-plugins, fiona, geopandas\n",
            "Successfully installed click-plugins-1.1.1 cligj-0.5.0 fiona-1.8.13.post1 geopandas-0.7.0 munch-2.5.0 pyproj-2.6.0\n"
          ],
          "name": "stdout"
        }
      ]
    },
    {
      "cell_type": "markdown",
      "metadata": {
        "id": "uzFDRyUURLgc",
        "colab_type": "text"
      },
      "source": [
        "### Purpose of my analysis"
      ]
    },
    {
      "cell_type": "markdown",
      "metadata": {
        "id": "0Nu12iaJRyx4",
        "colab_type": "text"
      },
      "source": [
        "Recently the world is facing with the outbreak of COVID19. From the analysis, I hope I can find out which state in U.S.A is the most servere and the overall trend in the period. I want to compare the most severe state with California, which I am now living at to find out the difference. I also want to find out will the increase of COVID cases increase the amount of deaths."
      ]
    },
    {
      "cell_type": "markdown",
      "metadata": {
        "id": "9eO3E_NX5WYC",
        "colab_type": "text"
      },
      "source": [
        "### Outline of the analysis"
      ]
    },
    {
      "cell_type": "markdown",
      "metadata": {
        "id": "nl6AjRh65BFC",
        "colab_type": "text"
      },
      "source": [
        "First, I will use geopandas to make a map to show which state has the higest cases and deaths. \n",
        "\n",
        "Second, I will analysis the data of the most severe state \n",
        "\n",
        "Third, analysis the state of California where I am now living at\n",
        "\n",
        "Forth, compare the most severe state with California and find the difference between them. I will show the mean, standard deviation, and the time series. \n",
        "\n",
        "In the end, I will show the scatter plot with linear regression line of best fit to find out if there is any positive correlation between cases and deaths."
      ]
    },
    {
      "cell_type": "markdown",
      "metadata": {
        "id": "Gs4m5kqY8dE6",
        "colab_type": "text"
      },
      "source": [
        "### Introduction to COVID dataset"
      ]
    },
    {
      "cell_type": "markdown",
      "metadata": {
        "id": "R2SYgnQ9S3AW",
        "colab_type": "text"
      },
      "source": [
        "The dataset I choose reveal the state data of COVID cumulative cases and deaths in America. The time period is from the outbreak to April 8th.\n",
        "\n",
        "Features description:\n",
        "\n",
        "date: From the outbreak of the COVID cases and deaths to April 8th\n",
        "\n",
        "state: each state in America\n",
        "\n",
        "fips: encode for each state, I will use it to merge the dataframe of geo dataset\n",
        "\n",
        "cases: cumulative cases in America\n",
        "\n",
        "deaths: cumulative deaths in America\n",
        "\n"
      ]
    },
    {
      "cell_type": "markdown",
      "metadata": {
        "id": "21RGav0BRQLk",
        "colab_type": "text"
      },
      "source": [
        "### Load the Data\n",
        "#### I find my data from https://github.com/nytimes/covid-19-data/blob/master/us-states.csv"
      ]
    },
    {
      "cell_type": "code",
      "metadata": {
        "id": "ntEaWrhlRUgq",
        "colab_type": "code",
        "outputId": "1fed2f61-757e-417a-f9f6-27fde14f1a37",
        "colab": {
          "base_uri": "https://localhost:8080/",
          "height": 34
        }
      },
      "source": [
        "# https://docs.google.com/spreadsheets/d/e/2PACX-1vRFzIwlOXA5FP4g4rxiwvm1nMQZhypWc1CXQ2xbU0GJjxqkIeZeqzMBkegkxe2MnOyqtLpUKbq6xIHG/pubhtml?gid=340926253&single=true\n",
        "data_path = 'https://docs.google.com/spreadsheets/d/e/2PACX-1vRFzIwlOXA5FP4g4rxiwvm1nMQZhypWc1CXQ2xbU0GJjxqkIeZeqzMBkegkxe2MnOyqtLpUKbq6xIHG/pub?output=csv'\n",
        "my_data = pd.read_csv(data_path)\n",
        "my_data.shape"
      ],
      "execution_count": 0,
      "outputs": [
        {
          "output_type": "execute_result",
          "data": {
            "text/plain": [
              "(2049, 5)"
            ]
          },
          "metadata": {
            "tags": []
          },
          "execution_count": 57
        }
      ]
    },
    {
      "cell_type": "markdown",
      "metadata": {
        "id": "7lsbsTd6WyCa",
        "colab_type": "text"
      },
      "source": [
        "### Explore the Data"
      ]
    },
    {
      "cell_type": "code",
      "metadata": {
        "id": "hRCO39OsRpeo",
        "colab_type": "code",
        "outputId": "04bd2215-4f3c-424d-d3e9-2b4a1526cdb6",
        "colab": {
          "base_uri": "https://localhost:8080/",
          "height": 204
        }
      },
      "source": [
        "my_data.head()"
      ],
      "execution_count": 0,
      "outputs": [
        {
          "output_type": "execute_result",
          "data": {
            "text/html": [
              "<div>\n",
              "<style scoped>\n",
              "    .dataframe tbody tr th:only-of-type {\n",
              "        vertical-align: middle;\n",
              "    }\n",
              "\n",
              "    .dataframe tbody tr th {\n",
              "        vertical-align: top;\n",
              "    }\n",
              "\n",
              "    .dataframe thead th {\n",
              "        text-align: right;\n",
              "    }\n",
              "</style>\n",
              "<table border=\"1\" class=\"dataframe\">\n",
              "  <thead>\n",
              "    <tr style=\"text-align: right;\">\n",
              "      <th></th>\n",
              "      <th>date</th>\n",
              "      <th>state</th>\n",
              "      <th>fips</th>\n",
              "      <th>cases</th>\n",
              "      <th>deaths</th>\n",
              "    </tr>\n",
              "  </thead>\n",
              "  <tbody>\n",
              "    <tr>\n",
              "      <th>0</th>\n",
              "      <td>2020-01-21</td>\n",
              "      <td>Washington</td>\n",
              "      <td>53</td>\n",
              "      <td>1</td>\n",
              "      <td>0</td>\n",
              "    </tr>\n",
              "    <tr>\n",
              "      <th>1</th>\n",
              "      <td>2020-01-22</td>\n",
              "      <td>Washington</td>\n",
              "      <td>53</td>\n",
              "      <td>1</td>\n",
              "      <td>0</td>\n",
              "    </tr>\n",
              "    <tr>\n",
              "      <th>2</th>\n",
              "      <td>2020-01-23</td>\n",
              "      <td>Washington</td>\n",
              "      <td>53</td>\n",
              "      <td>1</td>\n",
              "      <td>0</td>\n",
              "    </tr>\n",
              "    <tr>\n",
              "      <th>3</th>\n",
              "      <td>2020-01-24</td>\n",
              "      <td>Illinois</td>\n",
              "      <td>17</td>\n",
              "      <td>1</td>\n",
              "      <td>0</td>\n",
              "    </tr>\n",
              "    <tr>\n",
              "      <th>4</th>\n",
              "      <td>2020-01-24</td>\n",
              "      <td>Washington</td>\n",
              "      <td>53</td>\n",
              "      <td>1</td>\n",
              "      <td>0</td>\n",
              "    </tr>\n",
              "  </tbody>\n",
              "</table>\n",
              "</div>"
            ],
            "text/plain": [
              "         date       state  fips  cases  deaths\n",
              "0  2020-01-21  Washington    53      1       0\n",
              "1  2020-01-22  Washington    53      1       0\n",
              "2  2020-01-23  Washington    53      1       0\n",
              "3  2020-01-24    Illinois    17      1       0\n",
              "4  2020-01-24  Washington    53      1       0"
            ]
          },
          "metadata": {
            "tags": []
          },
          "execution_count": 6
        }
      ]
    },
    {
      "cell_type": "code",
      "metadata": {
        "id": "b0DsqNS4Ruy6",
        "colab_type": "code",
        "outputId": "8667d606-de9b-4f7e-c812-45d32c7c7a45",
        "colab": {
          "base_uri": "https://localhost:8080/",
          "height": 221
        }
      },
      "source": [
        "# Get the information about my_data\n",
        "my_data.info()"
      ],
      "execution_count": 0,
      "outputs": [
        {
          "output_type": "stream",
          "text": [
            "<class 'pandas.core.frame.DataFrame'>\n",
            "RangeIndex: 2049 entries, 0 to 2048\n",
            "Data columns (total 5 columns):\n",
            " #   Column  Non-Null Count  Dtype \n",
            "---  ------  --------------  ----- \n",
            " 0   date    2049 non-null   object\n",
            " 1   state   2049 non-null   object\n",
            " 2   fips    2049 non-null   int64 \n",
            " 3   cases   2049 non-null   int64 \n",
            " 4   deaths  2049 non-null   int64 \n",
            "dtypes: int64(3), object(2)\n",
            "memory usage: 80.2+ KB\n"
          ],
          "name": "stdout"
        }
      ]
    },
    {
      "cell_type": "code",
      "metadata": {
        "id": "mMuWEJ2So366",
        "colab_type": "code",
        "outputId": "ff3ee5cd-99b4-412c-a5df-975f340505af",
        "colab": {
          "base_uri": "https://localhost:8080/",
          "height": 119
        }
      },
      "source": [
        "# Find if we have missing data\n",
        "my_data.isnull().sum()"
      ],
      "execution_count": 0,
      "outputs": [
        {
          "output_type": "execute_result",
          "data": {
            "text/plain": [
              "date      0\n",
              "state     0\n",
              "fips      0\n",
              "cases     0\n",
              "deaths    0\n",
              "dtype: int64"
            ]
          },
          "metadata": {
            "tags": []
          },
          "execution_count": 8
        }
      ]
    },
    {
      "cell_type": "code",
      "metadata": {
        "id": "L26luyLkWkQe",
        "colab_type": "code",
        "outputId": "b18af068-23cb-4e85-bee5-422ed6680726",
        "colab": {
          "base_uri": "https://localhost:8080/",
          "height": 297
        }
      },
      "source": [
        "# Find the mean, var, std, and quratile\n",
        "my_data.describe()"
      ],
      "execution_count": 0,
      "outputs": [
        {
          "output_type": "execute_result",
          "data": {
            "text/html": [
              "<div>\n",
              "<style scoped>\n",
              "    .dataframe tbody tr th:only-of-type {\n",
              "        vertical-align: middle;\n",
              "    }\n",
              "\n",
              "    .dataframe tbody tr th {\n",
              "        vertical-align: top;\n",
              "    }\n",
              "\n",
              "    .dataframe thead th {\n",
              "        text-align: right;\n",
              "    }\n",
              "</style>\n",
              "<table border=\"1\" class=\"dataframe\">\n",
              "  <thead>\n",
              "    <tr style=\"text-align: right;\">\n",
              "      <th></th>\n",
              "      <th>fips</th>\n",
              "      <th>cases</th>\n",
              "      <th>deaths</th>\n",
              "    </tr>\n",
              "  </thead>\n",
              "  <tbody>\n",
              "    <tr>\n",
              "      <th>count</th>\n",
              "      <td>2049.000000</td>\n",
              "      <td>2049.000000</td>\n",
              "      <td>2049.000000</td>\n",
              "    </tr>\n",
              "    <tr>\n",
              "      <th>mean</th>\n",
              "      <td>30.954124</td>\n",
              "      <td>1792.103953</td>\n",
              "      <td>45.832601</td>\n",
              "    </tr>\n",
              "    <tr>\n",
              "      <th>std</th>\n",
              "      <td>18.099142</td>\n",
              "      <td>8698.466106</td>\n",
              "      <td>282.313615</td>\n",
              "    </tr>\n",
              "    <tr>\n",
              "      <th>min</th>\n",
              "      <td>1.000000</td>\n",
              "      <td>1.000000</td>\n",
              "      <td>0.000000</td>\n",
              "    </tr>\n",
              "    <tr>\n",
              "      <th>25%</th>\n",
              "      <td>17.000000</td>\n",
              "      <td>8.000000</td>\n",
              "      <td>0.000000</td>\n",
              "    </tr>\n",
              "    <tr>\n",
              "      <th>50%</th>\n",
              "      <td>31.000000</td>\n",
              "      <td>95.000000</td>\n",
              "      <td>1.000000</td>\n",
              "    </tr>\n",
              "    <tr>\n",
              "      <th>75%</th>\n",
              "      <td>46.000000</td>\n",
              "      <td>719.000000</td>\n",
              "      <td>13.000000</td>\n",
              "    </tr>\n",
              "    <tr>\n",
              "      <th>max</th>\n",
              "      <td>78.000000</td>\n",
              "      <td>149401.000000</td>\n",
              "      <td>6268.000000</td>\n",
              "    </tr>\n",
              "  </tbody>\n",
              "</table>\n",
              "</div>"
            ],
            "text/plain": [
              "              fips          cases       deaths\n",
              "count  2049.000000    2049.000000  2049.000000\n",
              "mean     30.954124    1792.103953    45.832601\n",
              "std      18.099142    8698.466106   282.313615\n",
              "min       1.000000       1.000000     0.000000\n",
              "25%      17.000000       8.000000     0.000000\n",
              "50%      31.000000      95.000000     1.000000\n",
              "75%      46.000000     719.000000    13.000000\n",
              "max      78.000000  149401.000000  6268.000000"
            ]
          },
          "metadata": {
            "tags": []
          },
          "execution_count": 9
        }
      ]
    },
    {
      "cell_type": "markdown",
      "metadata": {
        "id": "jTLj_5jOk287",
        "colab_type": "text"
      },
      "source": [
        "### Plot the Static Map of COVID Distribution in U.S.A \n",
        "In order to make it easier to find out which state has the relatively higher cases and deaths, I try to use geopandas to make it visualize. \n",
        "\n",
        "I find my data from: https://www2.census.gov/"
      ]
    },
    {
      "cell_type": "code",
      "metadata": {
        "id": "vvczSwGN-Wei",
        "colab_type": "code",
        "outputId": "5d474ad8-b377-41c9-f13b-12861dc0540b",
        "colab": {
          "resources": {
            "http://localhost:8080/nbextensions/google.colab/files.js": {
              "data": "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",
              "ok": true,
              "headers": [
                [
                  "content-type",
                  "application/javascript"
                ]
              ],
              "status": 200,
              "status_text": ""
            }
          },
          "base_uri": "https://localhost:8080/",
          "height": 207
        }
      },
      "source": [
        "# Upload the data\n",
        "from google.colab import files\n",
        "\n",
        "# Please manually upload following files:\n",
        "# us_state_clean.cpg, us_state_clean.dbf, \n",
        "# us_state_clean.prj, us_state_clean.shp, \n",
        "# us_state_clean.shx\n",
        "\n",
        "uploaded = files.upload()"
      ],
      "execution_count": 0,
      "outputs": [
        {
          "output_type": "display_data",
          "data": {
            "text/html": [
              "\n",
              "     <input type=\"file\" id=\"files-f488f12d-bb92-48c0-8c95-a8c9eed1054e\" name=\"files[]\" multiple disabled />\n",
              "     <output id=\"result-f488f12d-bb92-48c0-8c95-a8c9eed1054e\">\n",
              "      Upload widget is only available when the cell has been executed in the\n",
              "      current browser session. Please rerun this cell to enable.\n",
              "      </output>\n",
              "      <script src=\"/nbextensions/google.colab/files.js\"></script> "
            ],
            "text/plain": [
              "<IPython.core.display.HTML object>"
            ]
          },
          "metadata": {
            "tags": []
          }
        },
        {
          "output_type": "stream",
          "text": [
            "Saving us_state_clean.cpg to us_state_clean (7).cpg\n",
            "Saving us_state_clean.dbf to us_state_clean (7).dbf\n",
            "Saving us_state_clean.prj to us_state_clean (7).prj\n",
            "Saving us_state_clean.shp to us_state_clean (9).shp\n",
            "Saving us_state_clean.shx to us_state_clean (7).shx\n"
          ],
          "name": "stdout"
        }
      ]
    },
    {
      "cell_type": "code",
      "metadata": {
        "id": "zyCZMtJ9lAs7",
        "colab_type": "code",
        "outputId": "076ddaee-54a2-4fd4-f05a-cf01686ec055",
        "colab": {
          "base_uri": "https://localhost:8080/",
          "height": 204
        }
      },
      "source": [
        "# Read the data\n",
        "gdf = gpd.read_file('us_state_clean.shp')\n",
        "gdf.head()"
      ],
      "execution_count": 0,
      "outputs": [
        {
          "output_type": "execute_result",
          "data": {
            "text/html": [
              "<div>\n",
              "<style scoped>\n",
              "    .dataframe tbody tr th:only-of-type {\n",
              "        vertical-align: middle;\n",
              "    }\n",
              "\n",
              "    .dataframe tbody tr th {\n",
              "        vertical-align: top;\n",
              "    }\n",
              "\n",
              "    .dataframe thead th {\n",
              "        text-align: right;\n",
              "    }\n",
              "</style>\n",
              "<table border=\"1\" class=\"dataframe\">\n",
              "  <thead>\n",
              "    <tr style=\"text-align: right;\">\n",
              "      <th></th>\n",
              "      <th>GEOID</th>\n",
              "      <th>STUSPS</th>\n",
              "      <th>NAME</th>\n",
              "      <th>geometry</th>\n",
              "    </tr>\n",
              "  </thead>\n",
              "  <tbody>\n",
              "    <tr>\n",
              "      <th>0</th>\n",
              "      <td>31</td>\n",
              "      <td>NE</td>\n",
              "      <td>Nebraska</td>\n",
              "      <td>POLYGON ((-104.05351 41.15726, -104.05267 41.2...</td>\n",
              "    </tr>\n",
              "    <tr>\n",
              "      <th>1</th>\n",
              "      <td>53</td>\n",
              "      <td>WA</td>\n",
              "      <td>Washington</td>\n",
              "      <td>MULTIPOLYGON (((-122.32834 48.02134, -122.3217...</td>\n",
              "    </tr>\n",
              "    <tr>\n",
              "      <th>2</th>\n",
              "      <td>35</td>\n",
              "      <td>NM</td>\n",
              "      <td>New Mexico</td>\n",
              "      <td>POLYGON ((-109.05017 31.48000, -109.04984 31.4...</td>\n",
              "    </tr>\n",
              "    <tr>\n",
              "      <th>3</th>\n",
              "      <td>46</td>\n",
              "      <td>SD</td>\n",
              "      <td>South Dakota</td>\n",
              "      <td>POLYGON ((-104.05770 44.99743, -104.05021 44.9...</td>\n",
              "    </tr>\n",
              "    <tr>\n",
              "      <th>4</th>\n",
              "      <td>48</td>\n",
              "      <td>TX</td>\n",
              "      <td>Texas</td>\n",
              "      <td>POLYGON ((-106.64548 31.89867, -106.64084 31.9...</td>\n",
              "    </tr>\n",
              "  </tbody>\n",
              "</table>\n",
              "</div>"
            ],
            "text/plain": [
              "  GEOID STUSPS          NAME                                           geometry\n",
              "0    31     NE      Nebraska  POLYGON ((-104.05351 41.15726, -104.05267 41.2...\n",
              "1    53     WA    Washington  MULTIPOLYGON (((-122.32834 48.02134, -122.3217...\n",
              "2    35     NM    New Mexico  POLYGON ((-109.05017 31.48000, -109.04984 31.4...\n",
              "3    46     SD  South Dakota  POLYGON ((-104.05770 44.99743, -104.05021 44.9...\n",
              "4    48     TX         Texas  POLYGON ((-106.64548 31.89867, -106.64084 31.9..."
            ]
          },
          "metadata": {
            "tags": []
          },
          "execution_count": 11
        }
      ]
    },
    {
      "cell_type": "code",
      "metadata": {
        "id": "iMWA0NrC_dii",
        "colab_type": "code",
        "outputId": "890c1664-56fb-4f31-f38d-7fdfe6fafc92",
        "colab": {
          "base_uri": "https://localhost:8080/",
          "height": 238
        }
      },
      "source": [
        "# Remove Alaska, Guam and Hawaii from the datset\n",
        "gdf = gdf[gdf['NAME']!='Alaska'][gdf['NAME']!='Hawaii'][gdf['NAME']!='Guam']\n",
        "\n",
        "# Rename GEOID as fips\n",
        "gdf = gdf.rename(columns= {'GEOID':'fips'})\n",
        "gdf.head()"
      ],
      "execution_count": 0,
      "outputs": [
        {
          "output_type": "stream",
          "text": [
            "/usr/local/lib/python3.6/dist-packages/geopandas/geodataframe.py:576: UserWarning: Boolean Series key will be reindexed to match DataFrame index.\n",
            "  result = super(GeoDataFrame, self).__getitem__(key)\n"
          ],
          "name": "stderr"
        },
        {
          "output_type": "execute_result",
          "data": {
            "text/html": [
              "<div>\n",
              "<style scoped>\n",
              "    .dataframe tbody tr th:only-of-type {\n",
              "        vertical-align: middle;\n",
              "    }\n",
              "\n",
              "    .dataframe tbody tr th {\n",
              "        vertical-align: top;\n",
              "    }\n",
              "\n",
              "    .dataframe thead th {\n",
              "        text-align: right;\n",
              "    }\n",
              "</style>\n",
              "<table border=\"1\" class=\"dataframe\">\n",
              "  <thead>\n",
              "    <tr style=\"text-align: right;\">\n",
              "      <th></th>\n",
              "      <th>fips</th>\n",
              "      <th>STUSPS</th>\n",
              "      <th>NAME</th>\n",
              "      <th>geometry</th>\n",
              "    </tr>\n",
              "  </thead>\n",
              "  <tbody>\n",
              "    <tr>\n",
              "      <th>0</th>\n",
              "      <td>31</td>\n",
              "      <td>NE</td>\n",
              "      <td>Nebraska</td>\n",
              "      <td>POLYGON ((-104.05351 41.15726, -104.05267 41.2...</td>\n",
              "    </tr>\n",
              "    <tr>\n",
              "      <th>1</th>\n",
              "      <td>53</td>\n",
              "      <td>WA</td>\n",
              "      <td>Washington</td>\n",
              "      <td>MULTIPOLYGON (((-122.32834 48.02134, -122.3217...</td>\n",
              "    </tr>\n",
              "    <tr>\n",
              "      <th>2</th>\n",
              "      <td>35</td>\n",
              "      <td>NM</td>\n",
              "      <td>New Mexico</td>\n",
              "      <td>POLYGON ((-109.05017 31.48000, -109.04984 31.4...</td>\n",
              "    </tr>\n",
              "    <tr>\n",
              "      <th>3</th>\n",
              "      <td>46</td>\n",
              "      <td>SD</td>\n",
              "      <td>South Dakota</td>\n",
              "      <td>POLYGON ((-104.05770 44.99743, -104.05021 44.9...</td>\n",
              "    </tr>\n",
              "    <tr>\n",
              "      <th>4</th>\n",
              "      <td>48</td>\n",
              "      <td>TX</td>\n",
              "      <td>Texas</td>\n",
              "      <td>POLYGON ((-106.64548 31.89867, -106.64084 31.9...</td>\n",
              "    </tr>\n",
              "  </tbody>\n",
              "</table>\n",
              "</div>"
            ],
            "text/plain": [
              "  fips STUSPS          NAME                                           geometry\n",
              "0   31     NE      Nebraska  POLYGON ((-104.05351 41.15726, -104.05267 41.2...\n",
              "1   53     WA    Washington  MULTIPOLYGON (((-122.32834 48.02134, -122.3217...\n",
              "2   35     NM    New Mexico  POLYGON ((-109.05017 31.48000, -109.04984 31.4...\n",
              "3   46     SD  South Dakota  POLYGON ((-104.05770 44.99743, -104.05021 44.9...\n",
              "4   48     TX         Texas  POLYGON ((-106.64548 31.89867, -106.64084 31.9..."
            ]
          },
          "metadata": {
            "tags": []
          },
          "execution_count": 12
        }
      ]
    },
    {
      "cell_type": "code",
      "metadata": {
        "id": "-7JZurqSCriX",
        "colab_type": "code",
        "outputId": "6352959f-f278-402a-ecaf-7a3609f473e1",
        "colab": {
          "base_uri": "https://localhost:8080/",
          "height": 238
        }
      },
      "source": [
        "# Extract 04/08 COVID cases and deaths data\n",
        "map_df = my_data[my_data['date'] == '2020-04-08']\n",
        "# Remove Alaska, Guam and Hawaii from map_df\n",
        "map_df = map_df[map_df['state']!='Alaska'][map_df['state']!='Hawaii'][map_df['state']!='Guam']\n",
        "map_df.head()"
      ],
      "execution_count": 0,
      "outputs": [
        {
          "output_type": "stream",
          "text": [
            "/usr/local/lib/python3.6/dist-packages/ipykernel_launcher.py:3: UserWarning: Boolean Series key will be reindexed to match DataFrame index.\n",
            "  This is separate from the ipykernel package so we can avoid doing imports until\n"
          ],
          "name": "stderr"
        },
        {
          "output_type": "execute_result",
          "data": {
            "text/html": [
              "<div>\n",
              "<style scoped>\n",
              "    .dataframe tbody tr th:only-of-type {\n",
              "        vertical-align: middle;\n",
              "    }\n",
              "\n",
              "    .dataframe tbody tr th {\n",
              "        vertical-align: top;\n",
              "    }\n",
              "\n",
              "    .dataframe thead th {\n",
              "        text-align: right;\n",
              "    }\n",
              "</style>\n",
              "<table border=\"1\" class=\"dataframe\">\n",
              "  <thead>\n",
              "    <tr style=\"text-align: right;\">\n",
              "      <th></th>\n",
              "      <th>date</th>\n",
              "      <th>state</th>\n",
              "      <th>fips</th>\n",
              "      <th>cases</th>\n",
              "      <th>deaths</th>\n",
              "    </tr>\n",
              "  </thead>\n",
              "  <tbody>\n",
              "    <tr>\n",
              "      <th>1994</th>\n",
              "      <td>2020-04-08</td>\n",
              "      <td>Alabama</td>\n",
              "      <td>1</td>\n",
              "      <td>2499</td>\n",
              "      <td>67</td>\n",
              "    </tr>\n",
              "    <tr>\n",
              "      <th>1996</th>\n",
              "      <td>2020-04-08</td>\n",
              "      <td>Arizona</td>\n",
              "      <td>4</td>\n",
              "      <td>2726</td>\n",
              "      <td>80</td>\n",
              "    </tr>\n",
              "    <tr>\n",
              "      <th>1997</th>\n",
              "      <td>2020-04-08</td>\n",
              "      <td>Arkansas</td>\n",
              "      <td>5</td>\n",
              "      <td>1077</td>\n",
              "      <td>18</td>\n",
              "    </tr>\n",
              "    <tr>\n",
              "      <th>1998</th>\n",
              "      <td>2020-04-08</td>\n",
              "      <td>California</td>\n",
              "      <td>6</td>\n",
              "      <td>19043</td>\n",
              "      <td>506</td>\n",
              "    </tr>\n",
              "    <tr>\n",
              "      <th>1999</th>\n",
              "      <td>2020-04-08</td>\n",
              "      <td>Colorado</td>\n",
              "      <td>8</td>\n",
              "      <td>5655</td>\n",
              "      <td>192</td>\n",
              "    </tr>\n",
              "  </tbody>\n",
              "</table>\n",
              "</div>"
            ],
            "text/plain": [
              "            date       state  fips  cases  deaths\n",
              "1994  2020-04-08     Alabama     1   2499      67\n",
              "1996  2020-04-08     Arizona     4   2726      80\n",
              "1997  2020-04-08    Arkansas     5   1077      18\n",
              "1998  2020-04-08  California     6  19043     506\n",
              "1999  2020-04-08    Colorado     8   5655     192"
            ]
          },
          "metadata": {
            "tags": []
          },
          "execution_count": 13
        }
      ]
    },
    {
      "cell_type": "code",
      "metadata": {
        "id": "1zqtHhIqrw-Y",
        "colab_type": "code",
        "outputId": "cbd31ca3-5ba7-4ec7-d1a0-c985a2463570",
        "colab": {
          "base_uri": "https://localhost:8080/",
          "height": 408
        }
      },
      "source": [
        "# Info of gdf\n",
        "gdf.info()\n",
        "\n",
        "# Info of map_df\n",
        "map_df.info()"
      ],
      "execution_count": 0,
      "outputs": [
        {
          "output_type": "stream",
          "text": [
            "<class 'geopandas.geodataframe.GeoDataFrame'>\n",
            "Int64Index: 53 entries, 0 to 54\n",
            "Data columns (total 4 columns):\n",
            " #   Column    Non-Null Count  Dtype   \n",
            "---  ------    --------------  -----   \n",
            " 0   fips      53 non-null     object  \n",
            " 1   STUSPS    53 non-null     object  \n",
            " 2   NAME      53 non-null     object  \n",
            " 3   geometry  53 non-null     geometry\n",
            "dtypes: geometry(1), object(3)\n",
            "memory usage: 2.1+ KB\n",
            "<class 'pandas.core.frame.DataFrame'>\n",
            "Int64Index: 52 entries, 1994 to 2048\n",
            "Data columns (total 5 columns):\n",
            " #   Column  Non-Null Count  Dtype \n",
            "---  ------  --------------  ----- \n",
            " 0   date    52 non-null     object\n",
            " 1   state   52 non-null     object\n",
            " 2   fips    52 non-null     int64 \n",
            " 3   cases   52 non-null     int64 \n",
            " 4   deaths  52 non-null     int64 \n",
            "dtypes: int64(3), object(2)\n",
            "memory usage: 2.4+ KB\n"
          ],
          "name": "stdout"
        }
      ]
    },
    {
      "cell_type": "code",
      "metadata": {
        "id": "bNqopSyJxeEf",
        "colab_type": "code",
        "outputId": "5cf9aef8-8ee7-4ab2-afa4-fdac610e8492",
        "colab": {
          "base_uri": "https://localhost:8080/",
          "height": 204
        }
      },
      "source": [
        "# Merge gdf and map_df based on the 'fips' column\n",
        "gdf['fips']=gdf['fips'].astype(int)\n",
        "table = pd.merge(gdf, map_df, on ='fips')\n",
        "table.head()"
      ],
      "execution_count": 0,
      "outputs": [
        {
          "output_type": "execute_result",
          "data": {
            "text/html": [
              "<div>\n",
              "<style scoped>\n",
              "    .dataframe tbody tr th:only-of-type {\n",
              "        vertical-align: middle;\n",
              "    }\n",
              "\n",
              "    .dataframe tbody tr th {\n",
              "        vertical-align: top;\n",
              "    }\n",
              "\n",
              "    .dataframe thead th {\n",
              "        text-align: right;\n",
              "    }\n",
              "</style>\n",
              "<table border=\"1\" class=\"dataframe\">\n",
              "  <thead>\n",
              "    <tr style=\"text-align: right;\">\n",
              "      <th></th>\n",
              "      <th>fips</th>\n",
              "      <th>STUSPS</th>\n",
              "      <th>NAME</th>\n",
              "      <th>geometry</th>\n",
              "      <th>date</th>\n",
              "      <th>state</th>\n",
              "      <th>cases</th>\n",
              "      <th>deaths</th>\n",
              "    </tr>\n",
              "  </thead>\n",
              "  <tbody>\n",
              "    <tr>\n",
              "      <th>0</th>\n",
              "      <td>31</td>\n",
              "      <td>NE</td>\n",
              "      <td>Nebraska</td>\n",
              "      <td>POLYGON ((-104.05351 41.15726, -104.05267 41.2...</td>\n",
              "      <td>2020-04-08</td>\n",
              "      <td>Nebraska</td>\n",
              "      <td>538</td>\n",
              "      <td>14</td>\n",
              "    </tr>\n",
              "    <tr>\n",
              "      <th>1</th>\n",
              "      <td>53</td>\n",
              "      <td>WA</td>\n",
              "      <td>Washington</td>\n",
              "      <td>MULTIPOLYGON (((-122.32834 48.02134, -122.3217...</td>\n",
              "      <td>2020-04-08</td>\n",
              "      <td>Washington</td>\n",
              "      <td>9097</td>\n",
              "      <td>454</td>\n",
              "    </tr>\n",
              "    <tr>\n",
              "      <th>2</th>\n",
              "      <td>35</td>\n",
              "      <td>NM</td>\n",
              "      <td>New Mexico</td>\n",
              "      <td>POLYGON ((-109.05017 31.48000, -109.04984 31.4...</td>\n",
              "      <td>2020-04-08</td>\n",
              "      <td>New Mexico</td>\n",
              "      <td>865</td>\n",
              "      <td>16</td>\n",
              "    </tr>\n",
              "    <tr>\n",
              "      <th>3</th>\n",
              "      <td>46</td>\n",
              "      <td>SD</td>\n",
              "      <td>South Dakota</td>\n",
              "      <td>POLYGON ((-104.05770 44.99743, -104.05021 44.9...</td>\n",
              "      <td>2020-04-08</td>\n",
              "      <td>South Dakota</td>\n",
              "      <td>393</td>\n",
              "      <td>6</td>\n",
              "    </tr>\n",
              "    <tr>\n",
              "      <th>4</th>\n",
              "      <td>48</td>\n",
              "      <td>TX</td>\n",
              "      <td>Texas</td>\n",
              "      <td>POLYGON ((-106.64548 31.89867, -106.64084 31.9...</td>\n",
              "      <td>2020-04-08</td>\n",
              "      <td>Texas</td>\n",
              "      <td>9900</td>\n",
              "      <td>195</td>\n",
              "    </tr>\n",
              "  </tbody>\n",
              "</table>\n",
              "</div>"
            ],
            "text/plain": [
              "   fips STUSPS          NAME  ...         state cases deaths\n",
              "0    31     NE      Nebraska  ...      Nebraska   538     14\n",
              "1    53     WA    Washington  ...    Washington  9097    454\n",
              "2    35     NM    New Mexico  ...    New Mexico   865     16\n",
              "3    46     SD  South Dakota  ...  South Dakota   393      6\n",
              "4    48     TX         Texas  ...         Texas  9900    195\n",
              "\n",
              "[5 rows x 8 columns]"
            ]
          },
          "metadata": {
            "tags": []
          },
          "execution_count": 15
        }
      ]
    },
    {
      "cell_type": "markdown",
      "metadata": {
        "id": "wpdH8lWpmT5x",
        "colab_type": "text"
      },
      "source": [
        "Plot the COVID cases in USA"
      ]
    },
    {
      "cell_type": "code",
      "metadata": {
        "id": "eCXBMNplA_eK",
        "colab_type": "code",
        "outputId": "fa179345-0548-4ea2-fc23-76128dc61ccb",
        "colab": {
          "base_uri": "https://localhost:8080/",
          "height": 255
        }
      },
      "source": [
        "# Create a figure and a set of subplots\n",
        "fig, ax = plt.subplots(figsize=(25, 25))\n",
        "\n",
        "# Convert the coordinate system to web mercator to fit contextily basemap\n",
        "field_gdf = table.to_crs('EPSG:3857')\n",
        "\n",
        "# Plot the field polygons to the figure\n",
        "sns.set(style='white', palette='muted', color_codes=True)\n",
        "field_gdf.plot(ax=ax, column='cases', legend=False)\n",
        "ax.axis('off')\n",
        "ax.set_title('COVID Cases in USA', fontdict={'fontsize': '18', 'fontweight': '5'}, loc ='left')\n",
        "plt.show()"
      ],
      "execution_count": 0,
      "outputs": [
        {
          "output_type": "display_data",
          "data": {
            "image/png": "[encoded data removed]",
            "text/plain": [
              "<Figure size 1800x1800 with 1 Axes>"
            ]
          },
          "metadata": {
            "tags": [],
            "needs_background": "light"
          }
        }
      ]
    },
    {
      "cell_type": "markdown",
      "metadata": {
        "id": "KSjojuugmcaS",
        "colab_type": "text"
      },
      "source": [
        "Plot the COVID deaths in USA"
      ]
    },
    {
      "cell_type": "code",
      "metadata": {
        "id": "om8zjLlT7fxW",
        "colab_type": "code",
        "outputId": "c01b3d23-55d4-4a6c-a6d7-5de3e34e54fe",
        "colab": {
          "base_uri": "https://localhost:8080/",
          "height": 255
        }
      },
      "source": [
        "# Create a figure and a set of subplots\n",
        "fig, ax = plt.subplots(figsize=(25, 25))\n",
        "\n",
        "# Convert the coordinate system to web mercator to fit contextily basemap\n",
        "field_gdf = table.to_crs('EPSG:3857')\n",
        "\n",
        "# Plot the field polygons to the figure\n",
        "sns.set(style='white', palette='muted', color_codes=True)\n",
        "field_gdf.plot(ax=ax, column='deaths', legend=False)\n",
        "ax.axis('off')\n",
        "ax.set_title('COVID Deaths in USA', fontdict={'fontsize': '18', 'fontweight': '5'}, loc ='left')\n",
        "plt.show()"
      ],
      "execution_count": 0,
      "outputs": [
        {
          "output_type": "display_data",
          "data": {
            "image/png": "[encoded data removed]",
            "text/plain": [
              "<Figure size 1800x1800 with 1 Axes>"
            ]
          },
          "metadata": {
            "tags": []
          }
        }
      ]
    },
    {
      "cell_type": "markdown",
      "metadata": {
        "id": "Xx3xZiyQkEvn",
        "colab_type": "text"
      },
      "source": [
        "### Find out which state has the highest and lowest cases and deaths"
      ]
    },
    {
      "cell_type": "code",
      "metadata": {
        "id": "7bGULyea7z3I",
        "colab_type": "code",
        "outputId": "96afa08d-7f71-4f67-b7be-528e9b453ec0",
        "colab": {
          "base_uri": "https://localhost:8080/",
          "height": 34
        }
      },
      "source": [
        "# Verify which state has the highest cases\n",
        "max_idx = map_df.cases.idxmax()\n",
        "map_df.loc[max_idx].state"
      ],
      "execution_count": 0,
      "outputs": [
        {
          "output_type": "execute_result",
          "data": {
            "text/plain": [
              "'New York'"
            ]
          },
          "metadata": {
            "tags": []
          },
          "execution_count": 18
        }
      ]
    },
    {
      "cell_type": "code",
      "metadata": {
        "id": "R0ZcBIkmMA9Z",
        "colab_type": "code",
        "outputId": "3e2f7625-254a-4924-cd10-12ccbfb07788",
        "colab": {
          "base_uri": "https://localhost:8080/",
          "height": 34
        }
      },
      "source": [
        "# Verify which state has the highest deaths\n",
        "max_idx = map_df.deaths.idxmax()\n",
        "map_df.loc[max_idx].state"
      ],
      "execution_count": 0,
      "outputs": [
        {
          "output_type": "execute_result",
          "data": {
            "text/plain": [
              "'New York'"
            ]
          },
          "metadata": {
            "tags": []
          },
          "execution_count": 19
        }
      ]
    },
    {
      "cell_type": "code",
      "metadata": {
        "id": "mIDwIu9PknEx",
        "colab_type": "code",
        "outputId": "b0646281-633d-4e4a-95c6-4e3ab0df3acb",
        "colab": {
          "base_uri": "https://localhost:8080/",
          "height": 34
        }
      },
      "source": [
        "# Verify which state has the least cases\n",
        "min_idx = map_df.cases.idxmin()\n",
        "map_df.loc[min_idx].state"
      ],
      "execution_count": 0,
      "outputs": [
        {
          "output_type": "execute_result",
          "data": {
            "text/plain": [
              "'Northern Mariana Islands'"
            ]
          },
          "metadata": {
            "tags": []
          },
          "execution_count": 20
        }
      ]
    },
    {
      "cell_type": "code",
      "metadata": {
        "id": "yzcDohKHkP-R",
        "colab_type": "code",
        "outputId": "7a0e9cee-fe79-4cbb-f1c4-342c07674982",
        "colab": {
          "base_uri": "https://localhost:8080/",
          "height": 34
        }
      },
      "source": [
        "# Verify which state has the least deaths\n",
        "min_idx = map_df.deaths.idxmin()\n",
        "map_df.loc[min_idx].state"
      ],
      "execution_count": 0,
      "outputs": [
        {
          "output_type": "execute_result",
          "data": {
            "text/plain": [
              "'Wyoming'"
            ]
          },
          "metadata": {
            "tags": []
          },
          "execution_count": 21
        }
      ]
    },
    {
      "cell_type": "markdown",
      "metadata": {
        "id": "G6qPgbHFYInr",
        "colab_type": "text"
      },
      "source": [
        "### Convert index to date and sort the data by state"
      ]
    },
    {
      "cell_type": "markdown",
      "metadata": {
        "id": "4Cxd_3CPmmvz",
        "colab_type": "text"
      },
      "source": [
        "In order to make it easier for me to plot the data, I set the index to date and rearrange the order of state so that the same state will be put together."
      ]
    },
    {
      "cell_type": "code",
      "metadata": {
        "id": "JX0Klq6PYOrC",
        "colab_type": "code",
        "outputId": "7fab8195-76bf-4d37-eb4d-862249a64979",
        "colab": {
          "base_uri": "https://localhost:8080/",
          "height": 390
        }
      },
      "source": [
        "# Set index to date\n",
        "my_data.set_index('date', inplace= True)\n",
        "my_data.index = pd.DatetimeIndex(my_data.index)\n",
        "# Rearrange the order of state and date\n",
        "my_data.sort_values(['state','date'], inplace= True)\n",
        "my_data.head(10)"
      ],
      "execution_count": 0,
      "outputs": [
        {
          "output_type": "execute_result",
          "data": {
            "text/html": [
              "<div>\n",
              "<style scoped>\n",
              "    .dataframe tbody tr th:only-of-type {\n",
              "        vertical-align: middle;\n",
              "    }\n",
              "\n",
              "    .dataframe tbody tr th {\n",
              "        vertical-align: top;\n",
              "    }\n",
              "\n",
              "    .dataframe thead th {\n",
              "        text-align: right;\n",
              "    }\n",
              "</style>\n",
              "<table border=\"1\" class=\"dataframe\">\n",
              "  <thead>\n",
              "    <tr style=\"text-align: right;\">\n",
              "      <th></th>\n",
              "      <th>state</th>\n",
              "      <th>fips</th>\n",
              "      <th>cases</th>\n",
              "      <th>deaths</th>\n",
              "    </tr>\n",
              "    <tr>\n",
              "      <th>date</th>\n",
              "      <th></th>\n",
              "      <th></th>\n",
              "      <th></th>\n",
              "      <th></th>\n",
              "    </tr>\n",
              "  </thead>\n",
              "  <tbody>\n",
              "    <tr>\n",
              "      <th>2020-03-13</th>\n",
              "      <td>Alabama</td>\n",
              "      <td>1</td>\n",
              "      <td>6</td>\n",
              "      <td>0</td>\n",
              "    </tr>\n",
              "    <tr>\n",
              "      <th>2020-03-14</th>\n",
              "      <td>Alabama</td>\n",
              "      <td>1</td>\n",
              "      <td>12</td>\n",
              "      <td>0</td>\n",
              "    </tr>\n",
              "    <tr>\n",
              "      <th>2020-03-15</th>\n",
              "      <td>Alabama</td>\n",
              "      <td>1</td>\n",
              "      <td>23</td>\n",
              "      <td>0</td>\n",
              "    </tr>\n",
              "    <tr>\n",
              "      <th>2020-03-16</th>\n",
              "      <td>Alabama</td>\n",
              "      <td>1</td>\n",
              "      <td>29</td>\n",
              "      <td>0</td>\n",
              "    </tr>\n",
              "    <tr>\n",
              "      <th>2020-03-17</th>\n",
              "      <td>Alabama</td>\n",
              "      <td>1</td>\n",
              "      <td>39</td>\n",
              "      <td>0</td>\n",
              "    </tr>\n",
              "    <tr>\n",
              "      <th>2020-03-18</th>\n",
              "      <td>Alabama</td>\n",
              "      <td>1</td>\n",
              "      <td>51</td>\n",
              "      <td>0</td>\n",
              "    </tr>\n",
              "    <tr>\n",
              "      <th>2020-03-19</th>\n",
              "      <td>Alabama</td>\n",
              "      <td>1</td>\n",
              "      <td>78</td>\n",
              "      <td>0</td>\n",
              "    </tr>\n",
              "    <tr>\n",
              "      <th>2020-03-20</th>\n",
              "      <td>Alabama</td>\n",
              "      <td>1</td>\n",
              "      <td>106</td>\n",
              "      <td>0</td>\n",
              "    </tr>\n",
              "    <tr>\n",
              "      <th>2020-03-21</th>\n",
              "      <td>Alabama</td>\n",
              "      <td>1</td>\n",
              "      <td>131</td>\n",
              "      <td>0</td>\n",
              "    </tr>\n",
              "    <tr>\n",
              "      <th>2020-03-22</th>\n",
              "      <td>Alabama</td>\n",
              "      <td>1</td>\n",
              "      <td>157</td>\n",
              "      <td>0</td>\n",
              "    </tr>\n",
              "  </tbody>\n",
              "</table>\n",
              "</div>"
            ],
            "text/plain": [
              "              state  fips  cases  deaths\n",
              "date                                    \n",
              "2020-03-13  Alabama     1      6       0\n",
              "2020-03-14  Alabama     1     12       0\n",
              "2020-03-15  Alabama     1     23       0\n",
              "2020-03-16  Alabama     1     29       0\n",
              "2020-03-17  Alabama     1     39       0\n",
              "2020-03-18  Alabama     1     51       0\n",
              "2020-03-19  Alabama     1     78       0\n",
              "2020-03-20  Alabama     1    106       0\n",
              "2020-03-21  Alabama     1    131       0\n",
              "2020-03-22  Alabama     1    157       0"
            ]
          },
          "metadata": {
            "tags": []
          },
          "execution_count": 22
        }
      ]
    },
    {
      "cell_type": "markdown",
      "metadata": {
        "id": "2boK4VP2KLKH",
        "colab_type": "text"
      },
      "source": [
        "### Cases and deaths analysis of New York"
      ]
    },
    {
      "cell_type": "code",
      "metadata": {
        "id": "wJcLVDwUKKNY",
        "colab_type": "code",
        "outputId": "870ce7bd-a904-4e9b-9476-0083dd5f8ffe",
        "colab": {
          "base_uri": "https://localhost:8080/",
          "height": 235
        }
      },
      "source": [
        "# Select New York data from state\n",
        "newyork_data = my_data.loc[my_data['state'] == 'New York']\n",
        "newyork_data.head()"
      ],
      "execution_count": 0,
      "outputs": [
        {
          "output_type": "execute_result",
          "data": {
            "text/html": [
              "<div>\n",
              "<style scoped>\n",
              "    .dataframe tbody tr th:only-of-type {\n",
              "        vertical-align: middle;\n",
              "    }\n",
              "\n",
              "    .dataframe tbody tr th {\n",
              "        vertical-align: top;\n",
              "    }\n",
              "\n",
              "    .dataframe thead th {\n",
              "        text-align: right;\n",
              "    }\n",
              "</style>\n",
              "<table border=\"1\" class=\"dataframe\">\n",
              "  <thead>\n",
              "    <tr style=\"text-align: right;\">\n",
              "      <th></th>\n",
              "      <th>state</th>\n",
              "      <th>fips</th>\n",
              "      <th>cases</th>\n",
              "      <th>deaths</th>\n",
              "    </tr>\n",
              "    <tr>\n",
              "      <th>date</th>\n",
              "      <th></th>\n",
              "      <th></th>\n",
              "      <th></th>\n",
              "      <th></th>\n",
              "    </tr>\n",
              "  </thead>\n",
              "  <tbody>\n",
              "    <tr>\n",
              "      <th>2020-03-01</th>\n",
              "      <td>New York</td>\n",
              "      <td>36</td>\n",
              "      <td>1</td>\n",
              "      <td>0</td>\n",
              "    </tr>\n",
              "    <tr>\n",
              "      <th>2020-03-02</th>\n",
              "      <td>New York</td>\n",
              "      <td>36</td>\n",
              "      <td>1</td>\n",
              "      <td>0</td>\n",
              "    </tr>\n",
              "    <tr>\n",
              "      <th>2020-03-03</th>\n",
              "      <td>New York</td>\n",
              "      <td>36</td>\n",
              "      <td>2</td>\n",
              "      <td>0</td>\n",
              "    </tr>\n",
              "    <tr>\n",
              "      <th>2020-03-04</th>\n",
              "      <td>New York</td>\n",
              "      <td>36</td>\n",
              "      <td>11</td>\n",
              "      <td>0</td>\n",
              "    </tr>\n",
              "    <tr>\n",
              "      <th>2020-03-05</th>\n",
              "      <td>New York</td>\n",
              "      <td>36</td>\n",
              "      <td>22</td>\n",
              "      <td>0</td>\n",
              "    </tr>\n",
              "  </tbody>\n",
              "</table>\n",
              "</div>"
            ],
            "text/plain": [
              "               state  fips  cases  deaths\n",
              "date                                     \n",
              "2020-03-01  New York    36      1       0\n",
              "2020-03-02  New York    36      1       0\n",
              "2020-03-03  New York    36      2       0\n",
              "2020-03-04  New York    36     11       0\n",
              "2020-03-05  New York    36     22       0"
            ]
          },
          "metadata": {
            "tags": []
          },
          "execution_count": 23
        }
      ]
    },
    {
      "cell_type": "code",
      "metadata": {
        "id": "2Adwja0585Eh",
        "colab_type": "code",
        "outputId": "f96c9e5e-de31-4c9e-e3de-f73c25d50db1",
        "colab": {
          "base_uri": "https://localhost:8080/",
          "height": 1000
        }
      },
      "source": [
        "# select cases data from New York\n",
        "newyork_cases = newyork_data[['cases']]\n",
        "newyork_cases"
      ],
      "execution_count": 0,
      "outputs": [
        {
          "output_type": "execute_result",
          "data": {
            "text/html": [
              "<div>\n",
              "<style scoped>\n",
              "    .dataframe tbody tr th:only-of-type {\n",
              "        vertical-align: middle;\n",
              "    }\n",
              "\n",
              "    .dataframe tbody tr th {\n",
              "        vertical-align: top;\n",
              "    }\n",
              "\n",
              "    .dataframe thead th {\n",
              "        text-align: right;\n",
              "    }\n",
              "</style>\n",
              "<table border=\"1\" class=\"dataframe\">\n",
              "  <thead>\n",
              "    <tr style=\"text-align: right;\">\n",
              "      <th></th>\n",
              "      <th>cases</th>\n",
              "    </tr>\n",
              "    <tr>\n",
              "      <th>date</th>\n",
              "      <th></th>\n",
              "    </tr>\n",
              "  </thead>\n",
              "  <tbody>\n",
              "    <tr>\n",
              "      <th>2020-03-01</th>\n",
              "      <td>1</td>\n",
              "    </tr>\n",
              "    <tr>\n",
              "      <th>2020-03-02</th>\n",
              "      <td>1</td>\n",
              "    </tr>\n",
              "    <tr>\n",
              "      <th>2020-03-03</th>\n",
              "      <td>2</td>\n",
              "    </tr>\n",
              "    <tr>\n",
              "      <th>2020-03-04</th>\n",
              "      <td>11</td>\n",
              "    </tr>\n",
              "    <tr>\n",
              "      <th>2020-03-05</th>\n",
              "      <td>22</td>\n",
              "    </tr>\n",
              "    <tr>\n",
              "      <th>2020-03-06</th>\n",
              "      <td>44</td>\n",
              "    </tr>\n",
              "    <tr>\n",
              "      <th>2020-03-07</th>\n",
              "      <td>89</td>\n",
              "    </tr>\n",
              "    <tr>\n",
              "      <th>2020-03-08</th>\n",
              "      <td>106</td>\n",
              "    </tr>\n",
              "    <tr>\n",
              "      <th>2020-03-09</th>\n",
              "      <td>142</td>\n",
              "    </tr>\n",
              "    <tr>\n",
              "      <th>2020-03-10</th>\n",
              "      <td>173</td>\n",
              "    </tr>\n",
              "    <tr>\n",
              "      <th>2020-03-11</th>\n",
              "      <td>217</td>\n",
              "    </tr>\n",
              "    <tr>\n",
              "      <th>2020-03-12</th>\n",
              "      <td>326</td>\n",
              "    </tr>\n",
              "    <tr>\n",
              "      <th>2020-03-13</th>\n",
              "      <td>421</td>\n",
              "    </tr>\n",
              "    <tr>\n",
              "      <th>2020-03-14</th>\n",
              "      <td>610</td>\n",
              "    </tr>\n",
              "    <tr>\n",
              "      <th>2020-03-15</th>\n",
              "      <td>732</td>\n",
              "    </tr>\n",
              "    <tr>\n",
              "      <th>2020-03-16</th>\n",
              "      <td>950</td>\n",
              "    </tr>\n",
              "    <tr>\n",
              "      <th>2020-03-17</th>\n",
              "      <td>1374</td>\n",
              "    </tr>\n",
              "    <tr>\n",
              "      <th>2020-03-18</th>\n",
              "      <td>2382</td>\n",
              "    </tr>\n",
              "    <tr>\n",
              "      <th>2020-03-19</th>\n",
              "      <td>4152</td>\n",
              "    </tr>\n",
              "    <tr>\n",
              "      <th>2020-03-20</th>\n",
              "      <td>7102</td>\n",
              "    </tr>\n",
              "    <tr>\n",
              "      <th>2020-03-21</th>\n",
              "      <td>10356</td>\n",
              "    </tr>\n",
              "    <tr>\n",
              "      <th>2020-03-22</th>\n",
              "      <td>15168</td>\n",
              "    </tr>\n",
              "    <tr>\n",
              "      <th>2020-03-23</th>\n",
              "      <td>20875</td>\n",
              "    </tr>\n",
              "    <tr>\n",
              "      <th>2020-03-24</th>\n",
              "      <td>25665</td>\n",
              "    </tr>\n",
              "    <tr>\n",
              "      <th>2020-03-25</th>\n",
              "      <td>33066</td>\n",
              "    </tr>\n",
              "    <tr>\n",
              "      <th>2020-03-26</th>\n",
              "      <td>38987</td>\n",
              "    </tr>\n",
              "    <tr>\n",
              "      <th>2020-03-27</th>\n",
              "      <td>44635</td>\n",
              "    </tr>\n",
              "    <tr>\n",
              "      <th>2020-03-28</th>\n",
              "      <td>53363</td>\n",
              "    </tr>\n",
              "    <tr>\n",
              "      <th>2020-03-29</th>\n",
              "      <td>59568</td>\n",
              "    </tr>\n",
              "    <tr>\n",
              "      <th>2020-03-30</th>\n",
              "      <td>67174</td>\n",
              "    </tr>\n",
              "    <tr>\n",
              "      <th>2020-03-31</th>\n",
              "      <td>75832</td>\n",
              "    </tr>\n",
              "    <tr>\n",
              "      <th>2020-04-01</th>\n",
              "      <td>83889</td>\n",
              "    </tr>\n",
              "    <tr>\n",
              "      <th>2020-04-02</th>\n",
              "      <td>92770</td>\n",
              "    </tr>\n",
              "    <tr>\n",
              "      <th>2020-04-03</th>\n",
              "      <td>102870</td>\n",
              "    </tr>\n",
              "    <tr>\n",
              "      <th>2020-04-04</th>\n",
              "      <td>114996</td>\n",
              "    </tr>\n",
              "    <tr>\n",
              "      <th>2020-04-05</th>\n",
              "      <td>122911</td>\n",
              "    </tr>\n",
              "    <tr>\n",
              "      <th>2020-04-06</th>\n",
              "      <td>130703</td>\n",
              "    </tr>\n",
              "    <tr>\n",
              "      <th>2020-04-07</th>\n",
              "      <td>140081</td>\n",
              "    </tr>\n",
              "    <tr>\n",
              "      <th>2020-04-08</th>\n",
              "      <td>149401</td>\n",
              "    </tr>\n",
              "  </tbody>\n",
              "</table>\n",
              "</div>"
            ],
            "text/plain": [
              "             cases\n",
              "date              \n",
              "2020-03-01       1\n",
              "2020-03-02       1\n",
              "2020-03-03       2\n",
              "2020-03-04      11\n",
              "2020-03-05      22\n",
              "2020-03-06      44\n",
              "2020-03-07      89\n",
              "2020-03-08     106\n",
              "2020-03-09     142\n",
              "2020-03-10     173\n",
              "2020-03-11     217\n",
              "2020-03-12     326\n",
              "2020-03-13     421\n",
              "2020-03-14     610\n",
              "2020-03-15     732\n",
              "2020-03-16     950\n",
              "2020-03-17    1374\n",
              "2020-03-18    2382\n",
              "2020-03-19    4152\n",
              "2020-03-20    7102\n",
              "2020-03-21   10356\n",
              "2020-03-22   15168\n",
              "2020-03-23   20875\n",
              "2020-03-24   25665\n",
              "2020-03-25   33066\n",
              "2020-03-26   38987\n",
              "2020-03-27   44635\n",
              "2020-03-28   53363\n",
              "2020-03-29   59568\n",
              "2020-03-30   67174\n",
              "2020-03-31   75832\n",
              "2020-04-01   83889\n",
              "2020-04-02   92770\n",
              "2020-04-03  102870\n",
              "2020-04-04  114996\n",
              "2020-04-05  122911\n",
              "2020-04-06  130703\n",
              "2020-04-07  140081\n",
              "2020-04-08  149401"
            ]
          },
          "metadata": {
            "tags": []
          },
          "execution_count": 24
        }
      ]
    },
    {
      "cell_type": "code",
      "metadata": {
        "id": "GFrnak-59Kve",
        "colab_type": "code",
        "outputId": "22d23c70-34ef-4693-8053-ff80d4ce8520",
        "colab": {
          "base_uri": "https://localhost:8080/",
          "height": 1000
        }
      },
      "source": [
        "# Compute daily cases of New York\n",
        "newyork_daily_cases = newyork_cases.copy()\n",
        "\n",
        "last_day_cases = 0\n",
        "for i, row in newyork_cases.iterrows():\n",
        "  newyork_daily_cases.at[i, 'cases'] = row.cases - last_day_cases\n",
        "  last_day_cases = row.cases\n",
        "\n",
        "newyork_daily_cases\n",
        "\n",
        "# Rename the column \n",
        "newyork_daily_cases.rename(columns={'cases':'d_cases'})"
      ],
      "execution_count": 0,
      "outputs": [
        {
          "output_type": "execute_result",
          "data": {
            "text/html": [
              "<div>\n",
              "<style scoped>\n",
              "    .dataframe tbody tr th:only-of-type {\n",
              "        vertical-align: middle;\n",
              "    }\n",
              "\n",
              "    .dataframe tbody tr th {\n",
              "        vertical-align: top;\n",
              "    }\n",
              "\n",
              "    .dataframe thead th {\n",
              "        text-align: right;\n",
              "    }\n",
              "</style>\n",
              "<table border=\"1\" class=\"dataframe\">\n",
              "  <thead>\n",
              "    <tr style=\"text-align: right;\">\n",
              "      <th></th>\n",
              "      <th>d_cases</th>\n",
              "    </tr>\n",
              "    <tr>\n",
              "      <th>date</th>\n",
              "      <th></th>\n",
              "    </tr>\n",
              "  </thead>\n",
              "  <tbody>\n",
              "    <tr>\n",
              "      <th>2020-03-01</th>\n",
              "      <td>1</td>\n",
              "    </tr>\n",
              "    <tr>\n",
              "      <th>2020-03-02</th>\n",
              "      <td>0</td>\n",
              "    </tr>\n",
              "    <tr>\n",
              "      <th>2020-03-03</th>\n",
              "      <td>1</td>\n",
              "    </tr>\n",
              "    <tr>\n",
              "      <th>2020-03-04</th>\n",
              "      <td>9</td>\n",
              "    </tr>\n",
              "    <tr>\n",
              "      <th>2020-03-05</th>\n",
              "      <td>11</td>\n",
              "    </tr>\n",
              "    <tr>\n",
              "      <th>2020-03-06</th>\n",
              "      <td>22</td>\n",
              "    </tr>\n",
              "    <tr>\n",
              "      <th>2020-03-07</th>\n",
              "      <td>45</td>\n",
              "    </tr>\n",
              "    <tr>\n",
              "      <th>2020-03-08</th>\n",
              "      <td>17</td>\n",
              "    </tr>\n",
              "    <tr>\n",
              "      <th>2020-03-09</th>\n",
              "      <td>36</td>\n",
              "    </tr>\n",
              "    <tr>\n",
              "      <th>2020-03-10</th>\n",
              "      <td>31</td>\n",
              "    </tr>\n",
              "    <tr>\n",
              "      <th>2020-03-11</th>\n",
              "      <td>44</td>\n",
              "    </tr>\n",
              "    <tr>\n",
              "      <th>2020-03-12</th>\n",
              "      <td>109</td>\n",
              "    </tr>\n",
              "    <tr>\n",
              "      <th>2020-03-13</th>\n",
              "      <td>95</td>\n",
              "    </tr>\n",
              "    <tr>\n",
              "      <th>2020-03-14</th>\n",
              "      <td>189</td>\n",
              "    </tr>\n",
              "    <tr>\n",
              "      <th>2020-03-15</th>\n",
              "      <td>122</td>\n",
              "    </tr>\n",
              "    <tr>\n",
              "      <th>2020-03-16</th>\n",
              "      <td>218</td>\n",
              "    </tr>\n",
              "    <tr>\n",
              "      <th>2020-03-17</th>\n",
              "      <td>424</td>\n",
              "    </tr>\n",
              "    <tr>\n",
              "      <th>2020-03-18</th>\n",
              "      <td>1008</td>\n",
              "    </tr>\n",
              "    <tr>\n",
              "      <th>2020-03-19</th>\n",
              "      <td>1770</td>\n",
              "    </tr>\n",
              "    <tr>\n",
              "      <th>2020-03-20</th>\n",
              "      <td>2950</td>\n",
              "    </tr>\n",
              "    <tr>\n",
              "      <th>2020-03-21</th>\n",
              "      <td>3254</td>\n",
              "    </tr>\n",
              "    <tr>\n",
              "      <th>2020-03-22</th>\n",
              "      <td>4812</td>\n",
              "    </tr>\n",
              "    <tr>\n",
              "      <th>2020-03-23</th>\n",
              "      <td>5707</td>\n",
              "    </tr>\n",
              "    <tr>\n",
              "      <th>2020-03-24</th>\n",
              "      <td>4790</td>\n",
              "    </tr>\n",
              "    <tr>\n",
              "      <th>2020-03-25</th>\n",
              "      <td>7401</td>\n",
              "    </tr>\n",
              "    <tr>\n",
              "      <th>2020-03-26</th>\n",
              "      <td>5921</td>\n",
              "    </tr>\n",
              "    <tr>\n",
              "      <th>2020-03-27</th>\n",
              "      <td>5648</td>\n",
              "    </tr>\n",
              "    <tr>\n",
              "      <th>2020-03-28</th>\n",
              "      <td>8728</td>\n",
              "    </tr>\n",
              "    <tr>\n",
              "      <th>2020-03-29</th>\n",
              "      <td>6205</td>\n",
              "    </tr>\n",
              "    <tr>\n",
              "      <th>2020-03-30</th>\n",
              "      <td>7606</td>\n",
              "    </tr>\n",
              "    <tr>\n",
              "      <th>2020-03-31</th>\n",
              "      <td>8658</td>\n",
              "    </tr>\n",
              "    <tr>\n",
              "      <th>2020-04-01</th>\n",
              "      <td>8057</td>\n",
              "    </tr>\n",
              "    <tr>\n",
              "      <th>2020-04-02</th>\n",
              "      <td>8881</td>\n",
              "    </tr>\n",
              "    <tr>\n",
              "      <th>2020-04-03</th>\n",
              "      <td>10100</td>\n",
              "    </tr>\n",
              "    <tr>\n",
              "      <th>2020-04-04</th>\n",
              "      <td>12126</td>\n",
              "    </tr>\n",
              "    <tr>\n",
              "      <th>2020-04-05</th>\n",
              "      <td>7915</td>\n",
              "    </tr>\n",
              "    <tr>\n",
              "      <th>2020-04-06</th>\n",
              "      <td>7792</td>\n",
              "    </tr>\n",
              "    <tr>\n",
              "      <th>2020-04-07</th>\n",
              "      <td>9378</td>\n",
              "    </tr>\n",
              "    <tr>\n",
              "      <th>2020-04-08</th>\n",
              "      <td>9320</td>\n",
              "    </tr>\n",
              "  </tbody>\n",
              "</table>\n",
              "</div>"
            ],
            "text/plain": [
              "            d_cases\n",
              "date               \n",
              "2020-03-01        1\n",
              "2020-03-02        0\n",
              "2020-03-03        1\n",
              "2020-03-04        9\n",
              "2020-03-05       11\n",
              "2020-03-06       22\n",
              "2020-03-07       45\n",
              "2020-03-08       17\n",
              "2020-03-09       36\n",
              "2020-03-10       31\n",
              "2020-03-11       44\n",
              "2020-03-12      109\n",
              "2020-03-13       95\n",
              "2020-03-14      189\n",
              "2020-03-15      122\n",
              "2020-03-16      218\n",
              "2020-03-17      424\n",
              "2020-03-18     1008\n",
              "2020-03-19     1770\n",
              "2020-03-20     2950\n",
              "2020-03-21     3254\n",
              "2020-03-22     4812\n",
              "2020-03-23     5707\n",
              "2020-03-24     4790\n",
              "2020-03-25     7401\n",
              "2020-03-26     5921\n",
              "2020-03-27     5648\n",
              "2020-03-28     8728\n",
              "2020-03-29     6205\n",
              "2020-03-30     7606\n",
              "2020-03-31     8658\n",
              "2020-04-01     8057\n",
              "2020-04-02     8881\n",
              "2020-04-03    10100\n",
              "2020-04-04    12126\n",
              "2020-04-05     7915\n",
              "2020-04-06     7792\n",
              "2020-04-07     9378\n",
              "2020-04-08     9320"
            ]
          },
          "metadata": {
            "tags": []
          },
          "execution_count": 25
        }
      ]
    },
    {
      "cell_type": "code",
      "metadata": {
        "id": "SA4dTJHY9n61",
        "colab_type": "code",
        "outputId": "caba7a91-c50d-47c5-d86e-7f7c71493c89",
        "colab": {
          "base_uri": "https://localhost:8080/",
          "height": 1000
        }
      },
      "source": [
        "# select deaths data from New York\n",
        "newyork_deaths = newyork_data[['deaths']]\n",
        "newyork_deaths"
      ],
      "execution_count": 0,
      "outputs": [
        {
          "output_type": "execute_result",
          "data": {
            "text/html": [
              "<div>\n",
              "<style scoped>\n",
              "    .dataframe tbody tr th:only-of-type {\n",
              "        vertical-align: middle;\n",
              "    }\n",
              "\n",
              "    .dataframe tbody tr th {\n",
              "        vertical-align: top;\n",
              "    }\n",
              "\n",
              "    .dataframe thead th {\n",
              "        text-align: right;\n",
              "    }\n",
              "</style>\n",
              "<table border=\"1\" class=\"dataframe\">\n",
              "  <thead>\n",
              "    <tr style=\"text-align: right;\">\n",
              "      <th></th>\n",
              "      <th>deaths</th>\n",
              "    </tr>\n",
              "    <tr>\n",
              "      <th>date</th>\n",
              "      <th></th>\n",
              "    </tr>\n",
              "  </thead>\n",
              "  <tbody>\n",
              "    <tr>\n",
              "      <th>2020-03-01</th>\n",
              "      <td>0</td>\n",
              "    </tr>\n",
              "    <tr>\n",
              "      <th>2020-03-02</th>\n",
              "      <td>0</td>\n",
              "    </tr>\n",
              "    <tr>\n",
              "      <th>2020-03-03</th>\n",
              "      <td>0</td>\n",
              "    </tr>\n",
              "    <tr>\n",
              "      <th>2020-03-04</th>\n",
              "      <td>0</td>\n",
              "    </tr>\n",
              "    <tr>\n",
              "      <th>2020-03-05</th>\n",
              "      <td>0</td>\n",
              "    </tr>\n",
              "    <tr>\n",
              "      <th>2020-03-06</th>\n",
              "      <td>0</td>\n",
              "    </tr>\n",
              "    <tr>\n",
              "      <th>2020-03-07</th>\n",
              "      <td>0</td>\n",
              "    </tr>\n",
              "    <tr>\n",
              "      <th>2020-03-08</th>\n",
              "      <td>0</td>\n",
              "    </tr>\n",
              "    <tr>\n",
              "      <th>2020-03-09</th>\n",
              "      <td>0</td>\n",
              "    </tr>\n",
              "    <tr>\n",
              "      <th>2020-03-10</th>\n",
              "      <td>0</td>\n",
              "    </tr>\n",
              "    <tr>\n",
              "      <th>2020-03-11</th>\n",
              "      <td>0</td>\n",
              "    </tr>\n",
              "    <tr>\n",
              "      <th>2020-03-12</th>\n",
              "      <td>0</td>\n",
              "    </tr>\n",
              "    <tr>\n",
              "      <th>2020-03-13</th>\n",
              "      <td>0</td>\n",
              "    </tr>\n",
              "    <tr>\n",
              "      <th>2020-03-14</th>\n",
              "      <td>2</td>\n",
              "    </tr>\n",
              "    <tr>\n",
              "      <th>2020-03-15</th>\n",
              "      <td>6</td>\n",
              "    </tr>\n",
              "    <tr>\n",
              "      <th>2020-03-16</th>\n",
              "      <td>10</td>\n",
              "    </tr>\n",
              "    <tr>\n",
              "      <th>2020-03-17</th>\n",
              "      <td>17</td>\n",
              "    </tr>\n",
              "    <tr>\n",
              "      <th>2020-03-18</th>\n",
              "      <td>27</td>\n",
              "    </tr>\n",
              "    <tr>\n",
              "      <th>2020-03-19</th>\n",
              "      <td>30</td>\n",
              "    </tr>\n",
              "    <tr>\n",
              "      <th>2020-03-20</th>\n",
              "      <td>57</td>\n",
              "    </tr>\n",
              "    <tr>\n",
              "      <th>2020-03-21</th>\n",
              "      <td>80</td>\n",
              "    </tr>\n",
              "    <tr>\n",
              "      <th>2020-03-22</th>\n",
              "      <td>122</td>\n",
              "    </tr>\n",
              "    <tr>\n",
              "      <th>2020-03-23</th>\n",
              "      <td>159</td>\n",
              "    </tr>\n",
              "    <tr>\n",
              "      <th>2020-03-24</th>\n",
              "      <td>218</td>\n",
              "    </tr>\n",
              "    <tr>\n",
              "      <th>2020-03-25</th>\n",
              "      <td>325</td>\n",
              "    </tr>\n",
              "    <tr>\n",
              "      <th>2020-03-26</th>\n",
              "      <td>432</td>\n",
              "    </tr>\n",
              "    <tr>\n",
              "      <th>2020-03-27</th>\n",
              "      <td>535</td>\n",
              "    </tr>\n",
              "    <tr>\n",
              "      <th>2020-03-28</th>\n",
              "      <td>782</td>\n",
              "    </tr>\n",
              "    <tr>\n",
              "      <th>2020-03-29</th>\n",
              "      <td>965</td>\n",
              "    </tr>\n",
              "    <tr>\n",
              "      <th>2020-03-30</th>\n",
              "      <td>1224</td>\n",
              "    </tr>\n",
              "    <tr>\n",
              "      <th>2020-03-31</th>\n",
              "      <td>1550</td>\n",
              "    </tr>\n",
              "    <tr>\n",
              "      <th>2020-04-01</th>\n",
              "      <td>1941</td>\n",
              "    </tr>\n",
              "    <tr>\n",
              "      <th>2020-04-02</th>\n",
              "      <td>2653</td>\n",
              "    </tr>\n",
              "    <tr>\n",
              "      <th>2020-04-03</th>\n",
              "      <td>2935</td>\n",
              "    </tr>\n",
              "    <tr>\n",
              "      <th>2020-04-04</th>\n",
              "      <td>3568</td>\n",
              "    </tr>\n",
              "    <tr>\n",
              "      <th>2020-04-05</th>\n",
              "      <td>4161</td>\n",
              "    </tr>\n",
              "    <tr>\n",
              "      <th>2020-04-06</th>\n",
              "      <td>4758</td>\n",
              "    </tr>\n",
              "    <tr>\n",
              "      <th>2020-04-07</th>\n",
              "      <td>5563</td>\n",
              "    </tr>\n",
              "    <tr>\n",
              "      <th>2020-04-08</th>\n",
              "      <td>6268</td>\n",
              "    </tr>\n",
              "  </tbody>\n",
              "</table>\n",
              "</div>"
            ],
            "text/plain": [
              "            deaths\n",
              "date              \n",
              "2020-03-01       0\n",
              "2020-03-02       0\n",
              "2020-03-03       0\n",
              "2020-03-04       0\n",
              "2020-03-05       0\n",
              "2020-03-06       0\n",
              "2020-03-07       0\n",
              "2020-03-08       0\n",
              "2020-03-09       0\n",
              "2020-03-10       0\n",
              "2020-03-11       0\n",
              "2020-03-12       0\n",
              "2020-03-13       0\n",
              "2020-03-14       2\n",
              "2020-03-15       6\n",
              "2020-03-16      10\n",
              "2020-03-17      17\n",
              "2020-03-18      27\n",
              "2020-03-19      30\n",
              "2020-03-20      57\n",
              "2020-03-21      80\n",
              "2020-03-22     122\n",
              "2020-03-23     159\n",
              "2020-03-24     218\n",
              "2020-03-25     325\n",
              "2020-03-26     432\n",
              "2020-03-27     535\n",
              "2020-03-28     782\n",
              "2020-03-29     965\n",
              "2020-03-30    1224\n",
              "2020-03-31    1550\n",
              "2020-04-01    1941\n",
              "2020-04-02    2653\n",
              "2020-04-03    2935\n",
              "2020-04-04    3568\n",
              "2020-04-05    4161\n",
              "2020-04-06    4758\n",
              "2020-04-07    5563\n",
              "2020-04-08    6268"
            ]
          },
          "metadata": {
            "tags": []
          },
          "execution_count": 26
        }
      ]
    },
    {
      "cell_type": "code",
      "metadata": {
        "id": "6Q8_R2_m-JPd",
        "colab_type": "code",
        "outputId": "d1c829e2-74bd-4009-92aa-ae93d179ce7e",
        "colab": {
          "base_uri": "https://localhost:8080/",
          "height": 1000
        }
      },
      "source": [
        "# Compute daily deaths of New York\n",
        "newyork_daily_deaths = newyork_deaths.copy()\n",
        "\n",
        "# Compute daily deaths of New York\n",
        "last_day_deaths = 0\n",
        "for i, row in newyork_deaths.iterrows():\n",
        "  newyork_daily_deaths.at[i, 'deaths'] = row.deaths - last_day_deaths\n",
        "  last_day_deaths = row.deaths\n",
        "\n",
        "newyork_daily_deaths\n",
        "\n",
        "# Rename the column \n",
        "newyork_daily_deaths.rename(columns={'deaths':'d_deaths'})"
      ],
      "execution_count": 0,
      "outputs": [
        {
          "output_type": "execute_result",
          "data": {
            "text/html": [
              "<div>\n",
              "<style scoped>\n",
              "    .dataframe tbody tr th:only-of-type {\n",
              "        vertical-align: middle;\n",
              "    }\n",
              "\n",
              "    .dataframe tbody tr th {\n",
              "        vertical-align: top;\n",
              "    }\n",
              "\n",
              "    .dataframe thead th {\n",
              "        text-align: right;\n",
              "    }\n",
              "</style>\n",
              "<table border=\"1\" class=\"dataframe\">\n",
              "  <thead>\n",
              "    <tr style=\"text-align: right;\">\n",
              "      <th></th>\n",
              "      <th>d_deaths</th>\n",
              "    </tr>\n",
              "    <tr>\n",
              "      <th>date</th>\n",
              "      <th></th>\n",
              "    </tr>\n",
              "  </thead>\n",
              "  <tbody>\n",
              "    <tr>\n",
              "      <th>2020-03-01</th>\n",
              "      <td>0</td>\n",
              "    </tr>\n",
              "    <tr>\n",
              "      <th>2020-03-02</th>\n",
              "      <td>0</td>\n",
              "    </tr>\n",
              "    <tr>\n",
              "      <th>2020-03-03</th>\n",
              "      <td>0</td>\n",
              "    </tr>\n",
              "    <tr>\n",
              "      <th>2020-03-04</th>\n",
              "      <td>0</td>\n",
              "    </tr>\n",
              "    <tr>\n",
              "      <th>2020-03-05</th>\n",
              "      <td>0</td>\n",
              "    </tr>\n",
              "    <tr>\n",
              "      <th>2020-03-06</th>\n",
              "      <td>0</td>\n",
              "    </tr>\n",
              "    <tr>\n",
              "      <th>2020-03-07</th>\n",
              "      <td>0</td>\n",
              "    </tr>\n",
              "    <tr>\n",
              "      <th>2020-03-08</th>\n",
              "      <td>0</td>\n",
              "    </tr>\n",
              "    <tr>\n",
              "      <th>2020-03-09</th>\n",
              "      <td>0</td>\n",
              "    </tr>\n",
              "    <tr>\n",
              "      <th>2020-03-10</th>\n",
              "      <td>0</td>\n",
              "    </tr>\n",
              "    <tr>\n",
              "      <th>2020-03-11</th>\n",
              "      <td>0</td>\n",
              "    </tr>\n",
              "    <tr>\n",
              "      <th>2020-03-12</th>\n",
              "      <td>0</td>\n",
              "    </tr>\n",
              "    <tr>\n",
              "      <th>2020-03-13</th>\n",
              "      <td>0</td>\n",
              "    </tr>\n",
              "    <tr>\n",
              "      <th>2020-03-14</th>\n",
              "      <td>2</td>\n",
              "    </tr>\n",
              "    <tr>\n",
              "      <th>2020-03-15</th>\n",
              "      <td>4</td>\n",
              "    </tr>\n",
              "    <tr>\n",
              "      <th>2020-03-16</th>\n",
              "      <td>4</td>\n",
              "    </tr>\n",
              "    <tr>\n",
              "      <th>2020-03-17</th>\n",
              "      <td>7</td>\n",
              "    </tr>\n",
              "    <tr>\n",
              "      <th>2020-03-18</th>\n",
              "      <td>10</td>\n",
              "    </tr>\n",
              "    <tr>\n",
              "      <th>2020-03-19</th>\n",
              "      <td>3</td>\n",
              "    </tr>\n",
              "    <tr>\n",
              "      <th>2020-03-20</th>\n",
              "      <td>27</td>\n",
              "    </tr>\n",
              "    <tr>\n",
              "      <th>2020-03-21</th>\n",
              "      <td>23</td>\n",
              "    </tr>\n",
              "    <tr>\n",
              "      <th>2020-03-22</th>\n",
              "      <td>42</td>\n",
              "    </tr>\n",
              "    <tr>\n",
              "      <th>2020-03-23</th>\n",
              "      <td>37</td>\n",
              "    </tr>\n",
              "    <tr>\n",
              "      <th>2020-03-24</th>\n",
              "      <td>59</td>\n",
              "    </tr>\n",
              "    <tr>\n",
              "      <th>2020-03-25</th>\n",
              "      <td>107</td>\n",
              "    </tr>\n",
              "    <tr>\n",
              "      <th>2020-03-26</th>\n",
              "      <td>107</td>\n",
              "    </tr>\n",
              "    <tr>\n",
              "      <th>2020-03-27</th>\n",
              "      <td>103</td>\n",
              "    </tr>\n",
              "    <tr>\n",
              "      <th>2020-03-28</th>\n",
              "      <td>247</td>\n",
              "    </tr>\n",
              "    <tr>\n",
              "      <th>2020-03-29</th>\n",
              "      <td>183</td>\n",
              "    </tr>\n",
              "    <tr>\n",
              "      <th>2020-03-30</th>\n",
              "      <td>259</td>\n",
              "    </tr>\n",
              "    <tr>\n",
              "      <th>2020-03-31</th>\n",
              "      <td>326</td>\n",
              "    </tr>\n",
              "    <tr>\n",
              "      <th>2020-04-01</th>\n",
              "      <td>391</td>\n",
              "    </tr>\n",
              "    <tr>\n",
              "      <th>2020-04-02</th>\n",
              "      <td>712</td>\n",
              "    </tr>\n",
              "    <tr>\n",
              "      <th>2020-04-03</th>\n",
              "      <td>282</td>\n",
              "    </tr>\n",
              "    <tr>\n",
              "      <th>2020-04-04</th>\n",
              "      <td>633</td>\n",
              "    </tr>\n",
              "    <tr>\n",
              "      <th>2020-04-05</th>\n",
              "      <td>593</td>\n",
              "    </tr>\n",
              "    <tr>\n",
              "      <th>2020-04-06</th>\n",
              "      <td>597</td>\n",
              "    </tr>\n",
              "    <tr>\n",
              "      <th>2020-04-07</th>\n",
              "      <td>805</td>\n",
              "    </tr>\n",
              "    <tr>\n",
              "      <th>2020-04-08</th>\n",
              "      <td>705</td>\n",
              "    </tr>\n",
              "  </tbody>\n",
              "</table>\n",
              "</div>"
            ],
            "text/plain": [
              "            d_deaths\n",
              "date                \n",
              "2020-03-01         0\n",
              "2020-03-02         0\n",
              "2020-03-03         0\n",
              "2020-03-04         0\n",
              "2020-03-05         0\n",
              "2020-03-06         0\n",
              "2020-03-07         0\n",
              "2020-03-08         0\n",
              "2020-03-09         0\n",
              "2020-03-10         0\n",
              "2020-03-11         0\n",
              "2020-03-12         0\n",
              "2020-03-13         0\n",
              "2020-03-14         2\n",
              "2020-03-15         4\n",
              "2020-03-16         4\n",
              "2020-03-17         7\n",
              "2020-03-18        10\n",
              "2020-03-19         3\n",
              "2020-03-20        27\n",
              "2020-03-21        23\n",
              "2020-03-22        42\n",
              "2020-03-23        37\n",
              "2020-03-24        59\n",
              "2020-03-25       107\n",
              "2020-03-26       107\n",
              "2020-03-27       103\n",
              "2020-03-28       247\n",
              "2020-03-29       183\n",
              "2020-03-30       259\n",
              "2020-03-31       326\n",
              "2020-04-01       391\n",
              "2020-04-02       712\n",
              "2020-04-03       282\n",
              "2020-04-04       633\n",
              "2020-04-05       593\n",
              "2020-04-06       597\n",
              "2020-04-07       805\n",
              "2020-04-08       705"
            ]
          },
          "metadata": {
            "tags": []
          },
          "execution_count": 27
        }
      ]
    },
    {
      "cell_type": "code",
      "metadata": {
        "id": "h_K_ENu--y2r",
        "colab_type": "code",
        "outputId": "abd9f8be-dfc7-4195-aac6-5a42781e10e1",
        "colab": {
          "base_uri": "https://localhost:8080/",
          "height": 1000
        }
      },
      "source": [
        "# Merge the dataframe of California with d_cases and d_deaths\n",
        "ny_df = pd.merge(newyork_data, newyork_daily_cases, how='left', on='date')\n",
        "ny_df = pd.merge(ny_df, newyork_daily_deaths, how='left', on='date')\n",
        "ny_df = ny_df.rename(columns={'cases_x':'cases', 'deaths_x':'deaths','cases_y':'d_cases','deaths_y':'d_deaths'})\n",
        "ny_df"
      ],
      "execution_count": 0,
      "outputs": [
        {
          "output_type": "execute_result",
          "data": {
            "text/html": [
              "<div>\n",
              "<style scoped>\n",
              "    .dataframe tbody tr th:only-of-type {\n",
              "        vertical-align: middle;\n",
              "    }\n",
              "\n",
              "    .dataframe tbody tr th {\n",
              "        vertical-align: top;\n",
              "    }\n",
              "\n",
              "    .dataframe thead th {\n",
              "        text-align: right;\n",
              "    }\n",
              "</style>\n",
              "<table border=\"1\" class=\"dataframe\">\n",
              "  <thead>\n",
              "    <tr style=\"text-align: right;\">\n",
              "      <th></th>\n",
              "      <th>state</th>\n",
              "      <th>fips</th>\n",
              "      <th>cases</th>\n",
              "      <th>deaths</th>\n",
              "      <th>d_cases</th>\n",
              "      <th>d_deaths</th>\n",
              "    </tr>\n",
              "    <tr>\n",
              "      <th>date</th>\n",
              "      <th></th>\n",
              "      <th></th>\n",
              "      <th></th>\n",
              "      <th></th>\n",
              "      <th></th>\n",
              "      <th></th>\n",
              "    </tr>\n",
              "  </thead>\n",
              "  <tbody>\n",
              "    <tr>\n",
              "      <th>2020-03-01</th>\n",
              "      <td>New York</td>\n",
              "      <td>36</td>\n",
              "      <td>1</td>\n",
              "      <td>0</td>\n",
              "      <td>1</td>\n",
              "      <td>0</td>\n",
              "    </tr>\n",
              "    <tr>\n",
              "      <th>2020-03-02</th>\n",
              "      <td>New York</td>\n",
              "      <td>36</td>\n",
              "      <td>1</td>\n",
              "      <td>0</td>\n",
              "      <td>0</td>\n",
              "      <td>0</td>\n",
              "    </tr>\n",
              "    <tr>\n",
              "      <th>2020-03-03</th>\n",
              "      <td>New York</td>\n",
              "      <td>36</td>\n",
              "      <td>2</td>\n",
              "      <td>0</td>\n",
              "      <td>1</td>\n",
              "      <td>0</td>\n",
              "    </tr>\n",
              "    <tr>\n",
              "      <th>2020-03-04</th>\n",
              "      <td>New York</td>\n",
              "      <td>36</td>\n",
              "      <td>11</td>\n",
              "      <td>0</td>\n",
              "      <td>9</td>\n",
              "      <td>0</td>\n",
              "    </tr>\n",
              "    <tr>\n",
              "      <th>2020-03-05</th>\n",
              "      <td>New York</td>\n",
              "      <td>36</td>\n",
              "      <td>22</td>\n",
              "      <td>0</td>\n",
              "      <td>11</td>\n",
              "      <td>0</td>\n",
              "    </tr>\n",
              "    <tr>\n",
              "      <th>2020-03-06</th>\n",
              "      <td>New York</td>\n",
              "      <td>36</td>\n",
              "      <td>44</td>\n",
              "      <td>0</td>\n",
              "      <td>22</td>\n",
              "      <td>0</td>\n",
              "    </tr>\n",
              "    <tr>\n",
              "      <th>2020-03-07</th>\n",
              "      <td>New York</td>\n",
              "      <td>36</td>\n",
              "      <td>89</td>\n",
              "      <td>0</td>\n",
              "      <td>45</td>\n",
              "      <td>0</td>\n",
              "    </tr>\n",
              "    <tr>\n",
              "      <th>2020-03-08</th>\n",
              "      <td>New York</td>\n",
              "      <td>36</td>\n",
              "      <td>106</td>\n",
              "      <td>0</td>\n",
              "      <td>17</td>\n",
              "      <td>0</td>\n",
              "    </tr>\n",
              "    <tr>\n",
              "      <th>2020-03-09</th>\n",
              "      <td>New York</td>\n",
              "      <td>36</td>\n",
              "      <td>142</td>\n",
              "      <td>0</td>\n",
              "      <td>36</td>\n",
              "      <td>0</td>\n",
              "    </tr>\n",
              "    <tr>\n",
              "      <th>2020-03-10</th>\n",
              "      <td>New York</td>\n",
              "      <td>36</td>\n",
              "      <td>173</td>\n",
              "      <td>0</td>\n",
              "      <td>31</td>\n",
              "      <td>0</td>\n",
              "    </tr>\n",
              "    <tr>\n",
              "      <th>2020-03-11</th>\n",
              "      <td>New York</td>\n",
              "      <td>36</td>\n",
              "      <td>217</td>\n",
              "      <td>0</td>\n",
              "      <td>44</td>\n",
              "      <td>0</td>\n",
              "    </tr>\n",
              "    <tr>\n",
              "      <th>2020-03-12</th>\n",
              "      <td>New York</td>\n",
              "      <td>36</td>\n",
              "      <td>326</td>\n",
              "      <td>0</td>\n",
              "      <td>109</td>\n",
              "      <td>0</td>\n",
              "    </tr>\n",
              "    <tr>\n",
              "      <th>2020-03-13</th>\n",
              "      <td>New York</td>\n",
              "      <td>36</td>\n",
              "      <td>421</td>\n",
              "      <td>0</td>\n",
              "      <td>95</td>\n",
              "      <td>0</td>\n",
              "    </tr>\n",
              "    <tr>\n",
              "      <th>2020-03-14</th>\n",
              "      <td>New York</td>\n",
              "      <td>36</td>\n",
              "      <td>610</td>\n",
              "      <td>2</td>\n",
              "      <td>189</td>\n",
              "      <td>2</td>\n",
              "    </tr>\n",
              "    <tr>\n",
              "      <th>2020-03-15</th>\n",
              "      <td>New York</td>\n",
              "      <td>36</td>\n",
              "      <td>732</td>\n",
              "      <td>6</td>\n",
              "      <td>122</td>\n",
              "      <td>4</td>\n",
              "    </tr>\n",
              "    <tr>\n",
              "      <th>2020-03-16</th>\n",
              "      <td>New York</td>\n",
              "      <td>36</td>\n",
              "      <td>950</td>\n",
              "      <td>10</td>\n",
              "      <td>218</td>\n",
              "      <td>4</td>\n",
              "    </tr>\n",
              "    <tr>\n",
              "      <th>2020-03-17</th>\n",
              "      <td>New York</td>\n",
              "      <td>36</td>\n",
              "      <td>1374</td>\n",
              "      <td>17</td>\n",
              "      <td>424</td>\n",
              "      <td>7</td>\n",
              "    </tr>\n",
              "    <tr>\n",
              "      <th>2020-03-18</th>\n",
              "      <td>New York</td>\n",
              "      <td>36</td>\n",
              "      <td>2382</td>\n",
              "      <td>27</td>\n",
              "      <td>1008</td>\n",
              "      <td>10</td>\n",
              "    </tr>\n",
              "    <tr>\n",
              "      <th>2020-03-19</th>\n",
              "      <td>New York</td>\n",
              "      <td>36</td>\n",
              "      <td>4152</td>\n",
              "      <td>30</td>\n",
              "      <td>1770</td>\n",
              "      <td>3</td>\n",
              "    </tr>\n",
              "    <tr>\n",
              "      <th>2020-03-20</th>\n",
              "      <td>New York</td>\n",
              "      <td>36</td>\n",
              "      <td>7102</td>\n",
              "      <td>57</td>\n",
              "      <td>2950</td>\n",
              "      <td>27</td>\n",
              "    </tr>\n",
              "    <tr>\n",
              "      <th>2020-03-21</th>\n",
              "      <td>New York</td>\n",
              "      <td>36</td>\n",
              "      <td>10356</td>\n",
              "      <td>80</td>\n",
              "      <td>3254</td>\n",
              "      <td>23</td>\n",
              "    </tr>\n",
              "    <tr>\n",
              "      <th>2020-03-22</th>\n",
              "      <td>New York</td>\n",
              "      <td>36</td>\n",
              "      <td>15168</td>\n",
              "      <td>122</td>\n",
              "      <td>4812</td>\n",
              "      <td>42</td>\n",
              "    </tr>\n",
              "    <tr>\n",
              "      <th>2020-03-23</th>\n",
              "      <td>New York</td>\n",
              "      <td>36</td>\n",
              "      <td>20875</td>\n",
              "      <td>159</td>\n",
              "      <td>5707</td>\n",
              "      <td>37</td>\n",
              "    </tr>\n",
              "    <tr>\n",
              "      <th>2020-03-24</th>\n",
              "      <td>New York</td>\n",
              "      <td>36</td>\n",
              "      <td>25665</td>\n",
              "      <td>218</td>\n",
              "      <td>4790</td>\n",
              "      <td>59</td>\n",
              "    </tr>\n",
              "    <tr>\n",
              "      <th>2020-03-25</th>\n",
              "      <td>New York</td>\n",
              "      <td>36</td>\n",
              "      <td>33066</td>\n",
              "      <td>325</td>\n",
              "      <td>7401</td>\n",
              "      <td>107</td>\n",
              "    </tr>\n",
              "    <tr>\n",
              "      <th>2020-03-26</th>\n",
              "      <td>New York</td>\n",
              "      <td>36</td>\n",
              "      <td>38987</td>\n",
              "      <td>432</td>\n",
              "      <td>5921</td>\n",
              "      <td>107</td>\n",
              "    </tr>\n",
              "    <tr>\n",
              "      <th>2020-03-27</th>\n",
              "      <td>New York</td>\n",
              "      <td>36</td>\n",
              "      <td>44635</td>\n",
              "      <td>535</td>\n",
              "      <td>5648</td>\n",
              "      <td>103</td>\n",
              "    </tr>\n",
              "    <tr>\n",
              "      <th>2020-03-28</th>\n",
              "      <td>New York</td>\n",
              "      <td>36</td>\n",
              "      <td>53363</td>\n",
              "      <td>782</td>\n",
              "      <td>8728</td>\n",
              "      <td>247</td>\n",
              "    </tr>\n",
              "    <tr>\n",
              "      <th>2020-03-29</th>\n",
              "      <td>New York</td>\n",
              "      <td>36</td>\n",
              "      <td>59568</td>\n",
              "      <td>965</td>\n",
              "      <td>6205</td>\n",
              "      <td>183</td>\n",
              "    </tr>\n",
              "    <tr>\n",
              "      <th>2020-03-30</th>\n",
              "      <td>New York</td>\n",
              "      <td>36</td>\n",
              "      <td>67174</td>\n",
              "      <td>1224</td>\n",
              "      <td>7606</td>\n",
              "      <td>259</td>\n",
              "    </tr>\n",
              "    <tr>\n",
              "      <th>2020-03-31</th>\n",
              "      <td>New York</td>\n",
              "      <td>36</td>\n",
              "      <td>75832</td>\n",
              "      <td>1550</td>\n",
              "      <td>8658</td>\n",
              "      <td>326</td>\n",
              "    </tr>\n",
              "    <tr>\n",
              "      <th>2020-04-01</th>\n",
              "      <td>New York</td>\n",
              "      <td>36</td>\n",
              "      <td>83889</td>\n",
              "      <td>1941</td>\n",
              "      <td>8057</td>\n",
              "      <td>391</td>\n",
              "    </tr>\n",
              "    <tr>\n",
              "      <th>2020-04-02</th>\n",
              "      <td>New York</td>\n",
              "      <td>36</td>\n",
              "      <td>92770</td>\n",
              "      <td>2653</td>\n",
              "      <td>8881</td>\n",
              "      <td>712</td>\n",
              "    </tr>\n",
              "    <tr>\n",
              "      <th>2020-04-03</th>\n",
              "      <td>New York</td>\n",
              "      <td>36</td>\n",
              "      <td>102870</td>\n",
              "      <td>2935</td>\n",
              "      <td>10100</td>\n",
              "      <td>282</td>\n",
              "    </tr>\n",
              "    <tr>\n",
              "      <th>2020-04-04</th>\n",
              "      <td>New York</td>\n",
              "      <td>36</td>\n",
              "      <td>114996</td>\n",
              "      <td>3568</td>\n",
              "      <td>12126</td>\n",
              "      <td>633</td>\n",
              "    </tr>\n",
              "    <tr>\n",
              "      <th>2020-04-05</th>\n",
              "      <td>New York</td>\n",
              "      <td>36</td>\n",
              "      <td>122911</td>\n",
              "      <td>4161</td>\n",
              "      <td>7915</td>\n",
              "      <td>593</td>\n",
              "    </tr>\n",
              "    <tr>\n",
              "      <th>2020-04-06</th>\n",
              "      <td>New York</td>\n",
              "      <td>36</td>\n",
              "      <td>130703</td>\n",
              "      <td>4758</td>\n",
              "      <td>7792</td>\n",
              "      <td>597</td>\n",
              "    </tr>\n",
              "    <tr>\n",
              "      <th>2020-04-07</th>\n",
              "      <td>New York</td>\n",
              "      <td>36</td>\n",
              "      <td>140081</td>\n",
              "      <td>5563</td>\n",
              "      <td>9378</td>\n",
              "      <td>805</td>\n",
              "    </tr>\n",
              "    <tr>\n",
              "      <th>2020-04-08</th>\n",
              "      <td>New York</td>\n",
              "      <td>36</td>\n",
              "      <td>149401</td>\n",
              "      <td>6268</td>\n",
              "      <td>9320</td>\n",
              "      <td>705</td>\n",
              "    </tr>\n",
              "  </tbody>\n",
              "</table>\n",
              "</div>"
            ],
            "text/plain": [
              "               state  fips   cases  deaths  d_cases  d_deaths\n",
              "date                                                         \n",
              "2020-03-01  New York    36       1       0        1         0\n",
              "2020-03-02  New York    36       1       0        0         0\n",
              "2020-03-03  New York    36       2       0        1         0\n",
              "2020-03-04  New York    36      11       0        9         0\n",
              "2020-03-05  New York    36      22       0       11         0\n",
              "2020-03-06  New York    36      44       0       22         0\n",
              "2020-03-07  New York    36      89       0       45         0\n",
              "2020-03-08  New York    36     106       0       17         0\n",
              "2020-03-09  New York    36     142       0       36         0\n",
              "2020-03-10  New York    36     173       0       31         0\n",
              "2020-03-11  New York    36     217       0       44         0\n",
              "2020-03-12  New York    36     326       0      109         0\n",
              "2020-03-13  New York    36     421       0       95         0\n",
              "2020-03-14  New York    36     610       2      189         2\n",
              "2020-03-15  New York    36     732       6      122         4\n",
              "2020-03-16  New York    36     950      10      218         4\n",
              "2020-03-17  New York    36    1374      17      424         7\n",
              "2020-03-18  New York    36    2382      27     1008        10\n",
              "2020-03-19  New York    36    4152      30     1770         3\n",
              "2020-03-20  New York    36    7102      57     2950        27\n",
              "2020-03-21  New York    36   10356      80     3254        23\n",
              "2020-03-22  New York    36   15168     122     4812        42\n",
              "2020-03-23  New York    36   20875     159     5707        37\n",
              "2020-03-24  New York    36   25665     218     4790        59\n",
              "2020-03-25  New York    36   33066     325     7401       107\n",
              "2020-03-26  New York    36   38987     432     5921       107\n",
              "2020-03-27  New York    36   44635     535     5648       103\n",
              "2020-03-28  New York    36   53363     782     8728       247\n",
              "2020-03-29  New York    36   59568     965     6205       183\n",
              "2020-03-30  New York    36   67174    1224     7606       259\n",
              "2020-03-31  New York    36   75832    1550     8658       326\n",
              "2020-04-01  New York    36   83889    1941     8057       391\n",
              "2020-04-02  New York    36   92770    2653     8881       712\n",
              "2020-04-03  New York    36  102870    2935    10100       282\n",
              "2020-04-04  New York    36  114996    3568    12126       633\n",
              "2020-04-05  New York    36  122911    4161     7915       593\n",
              "2020-04-06  New York    36  130703    4758     7792       597\n",
              "2020-04-07  New York    36  140081    5563     9378       805\n",
              "2020-04-08  New York    36  149401    6268     9320       705"
            ]
          },
          "metadata": {
            "tags": []
          },
          "execution_count": 28
        }
      ]
    },
    {
      "cell_type": "code",
      "metadata": {
        "id": "e683Kma6uAPP",
        "colab_type": "code",
        "outputId": "b13a14f8-61b9-4e3d-c77f-a0d75e4f056b",
        "colab": {
          "base_uri": "https://localhost:8080/",
          "height": 51
        }
      },
      "source": [
        "# The date with highest cases\n",
        "max_idx1 = ny_df.d_cases.idxmax()\n",
        "\n",
        "# The date with highest deaths\n",
        "max_idx2 = ny_df.d_deaths.idxmax()\n",
        "\n",
        "print('The date with highest cases in NY',max_idx1)\n",
        "print('The date with highest deaths in NY',max_idx2)"
      ],
      "execution_count": 0,
      "outputs": [
        {
          "output_type": "stream",
          "text": [
            "The date with highest cases in NY 2020-04-04 00:00:00\n",
            "The date with highest deaths in NY 2020-04-07 00:00:00\n"
          ],
          "name": "stdout"
        }
      ]
    },
    {
      "cell_type": "markdown",
      "metadata": {
        "id": "WCO2lVN__QN-",
        "colab_type": "text"
      },
      "source": [
        "### Plot the data of New York"
      ]
    },
    {
      "cell_type": "code",
      "metadata": {
        "id": "Dewj6I59_S97",
        "colab_type": "code",
        "outputId": "1b376f2b-d523-4eea-b450-be9cb740c3b0",
        "colab": {
          "base_uri": "https://localhost:8080/",
          "height": 353
        }
      },
      "source": [
        "# Show the cumulative data of cases in New York\n",
        "sns.set(style='white', palette='muted', color_codes=True)\n",
        "newyork_cases.plot(title = 'Culmulative Cases in New York', linestyle='dashed', color='b', marker='o')\n",
        "plt.xlabel('Date')\n",
        "plt.ylabel('Cumulative Cases')\n",
        "plt.legend(loc = 'upper left')"
      ],
      "execution_count": 0,
      "outputs": [
        {
          "output_type": "execute_result",
          "data": {
            "text/plain": [
              "<matplotlib.legend.Legend at 0x7f7a75219748>"
            ]
          },
          "metadata": {
            "tags": []
          },
          "execution_count": 30
        },
        {
          "output_type": "display_data",
          "data": {
            "image/png": "[encoded data removed]",
            "text/plain": [
              "<Figure size 432x288 with 1 Axes>"
            ]
          },
          "metadata": {
            "tags": []
          }
        }
      ]
    },
    {
      "cell_type": "code",
      "metadata": {
        "id": "r6NIVrdE_lKy",
        "colab_type": "code",
        "outputId": "adc03254-5d46-4eaa-ee95-2150dc19622e",
        "colab": {
          "base_uri": "https://localhost:8080/",
          "height": 353
        }
      },
      "source": [
        "# Show the cumulative data of deaths in New York\n",
        "sns.set(style='white', palette='muted', color_codes=True)\n",
        "newyork_deaths.plot(title = 'Culmulative Deaths in New York', linestyle='dashed', color='k', marker='o')\n",
        "plt.xlabel('Date')\n",
        "plt.ylabel('Cumulative Deaths')\n",
        "plt.legend(loc = 'upper left')"
      ],
      "execution_count": 0,
      "outputs": [
        {
          "output_type": "execute_result",
          "data": {
            "text/plain": [
              "<matplotlib.legend.Legend at 0x7f7a72564f28>"
            ]
          },
          "metadata": {
            "tags": []
          },
          "execution_count": 31
        },
        {
          "output_type": "display_data",
          "data": {
            "image/png": "[encoded data removed]",
            "text/plain": [
              "<Figure size 432x288 with 1 Axes>"
            ]
          },
          "metadata": {
            "tags": []
          }
        }
      ]
    },
    {
      "cell_type": "code",
      "metadata": {
        "id": "QryozsWRATLj",
        "colab_type": "code",
        "outputId": "3f24ef0d-8006-4175-dd66-102f15eca854",
        "colab": {
          "base_uri": "https://localhost:8080/",
          "height": 353
        }
      },
      "source": [
        "# Show the daily data of cases in New York\n",
        "sns.set(style='white', palette='muted', color_codes=True)\n",
        "newyork_daily_cases.plot(title = 'Daily Cases in New York', color='b')\n",
        "plt.xlabel('Date')\n",
        "plt.ylabel('Daily Cases')\n",
        "plt.legend(loc = 'upper left')"
      ],
      "execution_count": 0,
      "outputs": [
        {
          "output_type": "execute_result",
          "data": {
            "text/plain": [
              "<matplotlib.legend.Legend at 0x7f7a72513cf8>"
            ]
          },
          "metadata": {
            "tags": []
          },
          "execution_count": 32
        },
        {
          "output_type": "display_data",
          "data": {
            "image/png": "[encoded data removed]",
            "text/plain": [
              "<Figure size 432x288 with 1 Axes>"
            ]
          },
          "metadata": {
            "tags": []
          }
        }
      ]
    },
    {
      "cell_type": "code",
      "metadata": {
        "id": "-SGBsTXhst5r",
        "colab_type": "code",
        "outputId": "0b622464-a903-4ee3-bed2-18f47656016c",
        "colab": {
          "base_uri": "https://localhost:8080/",
          "height": 423
        }
      },
      "source": [
        "# Emphasize the Daily cases growth by showing both sides of the Y axis\n",
        "ny1_df = ny_df.reset_index()\n",
        "x = ny1_df['date'].values\n",
        "y1 = ny1_df['d_cases'].values\n",
        "\n",
        "fig, ax = plt.subplots(1, 1, figsize=(18,8), dpi= 60)\n",
        "plt.fill_between(x, y1=y1, y2=-y1, alpha=0.5, linewidth=2, color='seagreen')\n",
        "plt.ylim(-2000, 2000)\n",
        "plt.title('NY Daily Cases Increase Trend', fontsize=16)\n",
        "plt.hlines(y=0, xmin=np.min(ny1_df.date), xmax=np.max(ny1_df.date), linewidth=.5)\n",
        "plt.show()"
      ],
      "execution_count": 0,
      "outputs": [
        {
          "output_type": "display_data",
          "data": {
            "image/png": "[encoded data removed]",
            "text/plain": [
              "<Figure size 1080x480 with 1 Axes>"
            ]
          },
          "metadata": {
            "tags": []
          }
        }
      ]
    },
    {
      "cell_type": "code",
      "metadata": {
        "id": "CE9uy6f6AePM",
        "colab_type": "code",
        "outputId": "ecd8c3d5-7bce-4bbd-ab3e-924118009bd2",
        "colab": {
          "base_uri": "https://localhost:8080/",
          "height": 353
        }
      },
      "source": [
        "# Show the daily data of deaths in New York\n",
        "sns.set(style='white', palette='muted', color_codes=True)\n",
        "newyork_daily_deaths.plot(title = 'Daily Deaths in New York', color='k')\n",
        "plt.xlabel('Date')\n",
        "plt.ylabel('Daily Deaths')\n",
        "plt.legend(loc = 'upper left')"
      ],
      "execution_count": 0,
      "outputs": [
        {
          "output_type": "execute_result",
          "data": {
            "text/plain": [
              "<matplotlib.legend.Legend at 0x7f7a752e94e0>"
            ]
          },
          "metadata": {
            "tags": []
          },
          "execution_count": 34
        },
        {
          "output_type": "display_data",
          "data": {
            "image/png": "[encoded data removed]",
            "text/plain": [
              "<Figure size 432x288 with 1 Axes>"
            ]
          },
          "metadata": {
            "tags": []
          }
        }
      ]
    },
    {
      "cell_type": "code",
      "metadata": {
        "id": "FXBzc2T2xkn-",
        "colab_type": "code",
        "outputId": "643c880e-d732-4f18-c552-d067b869fbb5",
        "colab": {
          "base_uri": "https://localhost:8080/",
          "height": 423
        }
      },
      "source": [
        "# Emphasize the Daily death growth by showing both sides of the Y axis\n",
        "x = ny1_df['date'].values\n",
        "y1 = ny1_df['d_deaths'].values\n",
        "\n",
        "fig, ax = plt.subplots(1, 1, figsize=(18,8), dpi= 60)\n",
        "plt.fill_between(x, y1=y1, y2=-y1, alpha=0.5, linewidth=2, color='black')\n",
        "plt.ylim(-2000, 2000)\n",
        "plt.title('NY Daily Deaths Increase Trend', fontsize=16)\n",
        "plt.hlines(y=0, xmin=np.min(ny1_df.date), xmax=np.max(ny1_df.date), linewidth=.5)\n",
        "plt.show()"
      ],
      "execution_count": 0,
      "outputs": [
        {
          "output_type": "display_data",
          "data": {
            "image/png": "[encoded data removed]",
            "text/plain": [
              "<Figure size 1080x480 with 1 Axes>"
            ]
          },
          "metadata": {
            "tags": []
          }
        }
      ]
    },
    {
      "cell_type": "markdown",
      "metadata": {
        "id": "y9yNVI9KXTrp",
        "colab_type": "text"
      },
      "source": [
        "### Cases and deaths analysis of California\n",
        "\n"
      ]
    },
    {
      "cell_type": "code",
      "metadata": {
        "id": "BLf_F46kXe-s",
        "colab_type": "code",
        "outputId": "562e3ab0-f34e-4c0d-a85a-54fd01fcf3a2",
        "colab": {
          "base_uri": "https://localhost:8080/",
          "height": 235
        }
      },
      "source": [
        "# Select California data from state\n",
        "california_data = my_data.loc[my_data['state'] == 'California']\n",
        "california_data.head()"
      ],
      "execution_count": 0,
      "outputs": [
        {
          "output_type": "execute_result",
          "data": {
            "text/html": [
              "<div>\n",
              "<style scoped>\n",
              "    .dataframe tbody tr th:only-of-type {\n",
              "        vertical-align: middle;\n",
              "    }\n",
              "\n",
              "    .dataframe tbody tr th {\n",
              "        vertical-align: top;\n",
              "    }\n",
              "\n",
              "    .dataframe thead th {\n",
              "        text-align: right;\n",
              "    }\n",
              "</style>\n",
              "<table border=\"1\" class=\"dataframe\">\n",
              "  <thead>\n",
              "    <tr style=\"text-align: right;\">\n",
              "      <th></th>\n",
              "      <th>state</th>\n",
              "      <th>fips</th>\n",
              "      <th>cases</th>\n",
              "      <th>deaths</th>\n",
              "    </tr>\n",
              "    <tr>\n",
              "      <th>date</th>\n",
              "      <th></th>\n",
              "      <th></th>\n",
              "      <th></th>\n",
              "      <th></th>\n",
              "    </tr>\n",
              "  </thead>\n",
              "  <tbody>\n",
              "    <tr>\n",
              "      <th>2020-01-25</th>\n",
              "      <td>California</td>\n",
              "      <td>6</td>\n",
              "      <td>1</td>\n",
              "      <td>0</td>\n",
              "    </tr>\n",
              "    <tr>\n",
              "      <th>2020-01-26</th>\n",
              "      <td>California</td>\n",
              "      <td>6</td>\n",
              "      <td>2</td>\n",
              "      <td>0</td>\n",
              "    </tr>\n",
              "    <tr>\n",
              "      <th>2020-01-27</th>\n",
              "      <td>California</td>\n",
              "      <td>6</td>\n",
              "      <td>2</td>\n",
              "      <td>0</td>\n",
              "    </tr>\n",
              "    <tr>\n",
              "      <th>2020-01-28</th>\n",
              "      <td>California</td>\n",
              "      <td>6</td>\n",
              "      <td>2</td>\n",
              "      <td>0</td>\n",
              "    </tr>\n",
              "    <tr>\n",
              "      <th>2020-01-29</th>\n",
              "      <td>California</td>\n",
              "      <td>6</td>\n",
              "      <td>2</td>\n",
              "      <td>0</td>\n",
              "    </tr>\n",
              "  </tbody>\n",
              "</table>\n",
              "</div>"
            ],
            "text/plain": [
              "                 state  fips  cases  deaths\n",
              "date                                       \n",
              "2020-01-25  California     6      1       0\n",
              "2020-01-26  California     6      2       0\n",
              "2020-01-27  California     6      2       0\n",
              "2020-01-28  California     6      2       0\n",
              "2020-01-29  California     6      2       0"
            ]
          },
          "metadata": {
            "tags": []
          },
          "execution_count": 36
        }
      ]
    },
    {
      "cell_type": "code",
      "metadata": {
        "id": "qAu1INjyjuna",
        "colab_type": "code",
        "outputId": "3b35d8d0-d6ea-4903-c7fd-e35d5b9fefd4",
        "colab": {
          "base_uri": "https://localhost:8080/",
          "height": 450
        }
      },
      "source": [
        "# select cases data from California\n",
        "california_cases = california_data[['cases']]\n",
        "california_cases"
      ],
      "execution_count": 0,
      "outputs": [
        {
          "output_type": "execute_result",
          "data": {
            "text/html": [
              "<div>\n",
              "<style scoped>\n",
              "    .dataframe tbody tr th:only-of-type {\n",
              "        vertical-align: middle;\n",
              "    }\n",
              "\n",
              "    .dataframe tbody tr th {\n",
              "        vertical-align: top;\n",
              "    }\n",
              "\n",
              "    .dataframe thead th {\n",
              "        text-align: right;\n",
              "    }\n",
              "</style>\n",
              "<table border=\"1\" class=\"dataframe\">\n",
              "  <thead>\n",
              "    <tr style=\"text-align: right;\">\n",
              "      <th></th>\n",
              "      <th>cases</th>\n",
              "    </tr>\n",
              "    <tr>\n",
              "      <th>date</th>\n",
              "      <th></th>\n",
              "    </tr>\n",
              "  </thead>\n",
              "  <tbody>\n",
              "    <tr>\n",
              "      <th>2020-01-25</th>\n",
              "      <td>1</td>\n",
              "    </tr>\n",
              "    <tr>\n",
              "      <th>2020-01-26</th>\n",
              "      <td>2</td>\n",
              "    </tr>\n",
              "    <tr>\n",
              "      <th>2020-01-27</th>\n",
              "      <td>2</td>\n",
              "    </tr>\n",
              "    <tr>\n",
              "      <th>2020-01-28</th>\n",
              "      <td>2</td>\n",
              "    </tr>\n",
              "    <tr>\n",
              "      <th>2020-01-29</th>\n",
              "      <td>2</td>\n",
              "    </tr>\n",
              "    <tr>\n",
              "      <th>...</th>\n",
              "      <td>...</td>\n",
              "    </tr>\n",
              "    <tr>\n",
              "      <th>2020-04-04</th>\n",
              "      <td>13796</td>\n",
              "    </tr>\n",
              "    <tr>\n",
              "      <th>2020-04-05</th>\n",
              "      <td>15076</td>\n",
              "    </tr>\n",
              "    <tr>\n",
              "      <th>2020-04-06</th>\n",
              "      <td>16284</td>\n",
              "    </tr>\n",
              "    <tr>\n",
              "      <th>2020-04-07</th>\n",
              "      <td>17540</td>\n",
              "    </tr>\n",
              "    <tr>\n",
              "      <th>2020-04-08</th>\n",
              "      <td>19043</td>\n",
              "    </tr>\n",
              "  </tbody>\n",
              "</table>\n",
              "<p>75 rows × 1 columns</p>\n",
              "</div>"
            ],
            "text/plain": [
              "            cases\n",
              "date             \n",
              "2020-01-25      1\n",
              "2020-01-26      2\n",
              "2020-01-27      2\n",
              "2020-01-28      2\n",
              "2020-01-29      2\n",
              "...           ...\n",
              "2020-04-04  13796\n",
              "2020-04-05  15076\n",
              "2020-04-06  16284\n",
              "2020-04-07  17540\n",
              "2020-04-08  19043\n",
              "\n",
              "[75 rows x 1 columns]"
            ]
          },
          "metadata": {
            "tags": []
          },
          "execution_count": 37
        }
      ]
    },
    {
      "cell_type": "code",
      "metadata": {
        "id": "BFgQdfcxjwLw",
        "colab_type": "code",
        "outputId": "cae3742c-960c-4313-a28d-8ecc9e318569",
        "colab": {
          "base_uri": "https://localhost:8080/",
          "height": 450
        }
      },
      "source": [
        "# Compute daily cases of California\n",
        "california_daily_cases = california_cases.copy()\n",
        "\n",
        "last_day_cases = 0\n",
        "for i, row in california_cases.iterrows():\n",
        "  california_daily_cases.at[i, 'cases'] = row.cases - last_day_cases\n",
        "  last_day_cases = row.cases\n",
        "\n",
        "california_daily_cases\n",
        "\n",
        "# Rename the column \n",
        "california_daily_cases.rename(columns={'cases':'d_cases'})"
      ],
      "execution_count": 0,
      "outputs": [
        {
          "output_type": "execute_result",
          "data": {
            "text/html": [
              "<div>\n",
              "<style scoped>\n",
              "    .dataframe tbody tr th:only-of-type {\n",
              "        vertical-align: middle;\n",
              "    }\n",
              "\n",
              "    .dataframe tbody tr th {\n",
              "        vertical-align: top;\n",
              "    }\n",
              "\n",
              "    .dataframe thead th {\n",
              "        text-align: right;\n",
              "    }\n",
              "</style>\n",
              "<table border=\"1\" class=\"dataframe\">\n",
              "  <thead>\n",
              "    <tr style=\"text-align: right;\">\n",
              "      <th></th>\n",
              "      <th>d_cases</th>\n",
              "    </tr>\n",
              "    <tr>\n",
              "      <th>date</th>\n",
              "      <th></th>\n",
              "    </tr>\n",
              "  </thead>\n",
              "  <tbody>\n",
              "    <tr>\n",
              "      <th>2020-01-25</th>\n",
              "      <td>1</td>\n",
              "    </tr>\n",
              "    <tr>\n",
              "      <th>2020-01-26</th>\n",
              "      <td>1</td>\n",
              "    </tr>\n",
              "    <tr>\n",
              "      <th>2020-01-27</th>\n",
              "      <td>0</td>\n",
              "    </tr>\n",
              "    <tr>\n",
              "      <th>2020-01-28</th>\n",
              "      <td>0</td>\n",
              "    </tr>\n",
              "    <tr>\n",
              "      <th>2020-01-29</th>\n",
              "      <td>0</td>\n",
              "    </tr>\n",
              "    <tr>\n",
              "      <th>...</th>\n",
              "      <td>...</td>\n",
              "    </tr>\n",
              "    <tr>\n",
              "      <th>2020-04-04</th>\n",
              "      <td>1227</td>\n",
              "    </tr>\n",
              "    <tr>\n",
              "      <th>2020-04-05</th>\n",
              "      <td>1280</td>\n",
              "    </tr>\n",
              "    <tr>\n",
              "      <th>2020-04-06</th>\n",
              "      <td>1208</td>\n",
              "    </tr>\n",
              "    <tr>\n",
              "      <th>2020-04-07</th>\n",
              "      <td>1256</td>\n",
              "    </tr>\n",
              "    <tr>\n",
              "      <th>2020-04-08</th>\n",
              "      <td>1503</td>\n",
              "    </tr>\n",
              "  </tbody>\n",
              "</table>\n",
              "<p>75 rows × 1 columns</p>\n",
              "</div>"
            ],
            "text/plain": [
              "            d_cases\n",
              "date               \n",
              "2020-01-25        1\n",
              "2020-01-26        1\n",
              "2020-01-27        0\n",
              "2020-01-28        0\n",
              "2020-01-29        0\n",
              "...             ...\n",
              "2020-04-04     1227\n",
              "2020-04-05     1280\n",
              "2020-04-06     1208\n",
              "2020-04-07     1256\n",
              "2020-04-08     1503\n",
              "\n",
              "[75 rows x 1 columns]"
            ]
          },
          "metadata": {
            "tags": []
          },
          "execution_count": 38
        }
      ]
    },
    {
      "cell_type": "code",
      "metadata": {
        "id": "FbA-b-gNa-PF",
        "colab_type": "code",
        "outputId": "6f68ecfc-7fc2-4d90-fbc3-ab8c1a8b2786",
        "colab": {
          "base_uri": "https://localhost:8080/",
          "height": 450
        }
      },
      "source": [
        "# select deaths data from California\n",
        "california_deaths = california_data[['deaths']]\n",
        "california_deaths"
      ],
      "execution_count": 0,
      "outputs": [
        {
          "output_type": "execute_result",
          "data": {
            "text/html": [
              "<div>\n",
              "<style scoped>\n",
              "    .dataframe tbody tr th:only-of-type {\n",
              "        vertical-align: middle;\n",
              "    }\n",
              "\n",
              "    .dataframe tbody tr th {\n",
              "        vertical-align: top;\n",
              "    }\n",
              "\n",
              "    .dataframe thead th {\n",
              "        text-align: right;\n",
              "    }\n",
              "</style>\n",
              "<table border=\"1\" class=\"dataframe\">\n",
              "  <thead>\n",
              "    <tr style=\"text-align: right;\">\n",
              "      <th></th>\n",
              "      <th>deaths</th>\n",
              "    </tr>\n",
              "    <tr>\n",
              "      <th>date</th>\n",
              "      <th></th>\n",
              "    </tr>\n",
              "  </thead>\n",
              "  <tbody>\n",
              "    <tr>\n",
              "      <th>2020-01-25</th>\n",
              "      <td>0</td>\n",
              "    </tr>\n",
              "    <tr>\n",
              "      <th>2020-01-26</th>\n",
              "      <td>0</td>\n",
              "    </tr>\n",
              "    <tr>\n",
              "      <th>2020-01-27</th>\n",
              "      <td>0</td>\n",
              "    </tr>\n",
              "    <tr>\n",
              "      <th>2020-01-28</th>\n",
              "      <td>0</td>\n",
              "    </tr>\n",
              "    <tr>\n",
              "      <th>2020-01-29</th>\n",
              "      <td>0</td>\n",
              "    </tr>\n",
              "    <tr>\n",
              "      <th>...</th>\n",
              "      <td>...</td>\n",
              "    </tr>\n",
              "    <tr>\n",
              "      <th>2020-04-04</th>\n",
              "      <td>323</td>\n",
              "    </tr>\n",
              "    <tr>\n",
              "      <th>2020-04-05</th>\n",
              "      <td>349</td>\n",
              "    </tr>\n",
              "    <tr>\n",
              "      <th>2020-04-06</th>\n",
              "      <td>386</td>\n",
              "    </tr>\n",
              "    <tr>\n",
              "      <th>2020-04-07</th>\n",
              "      <td>447</td>\n",
              "    </tr>\n",
              "    <tr>\n",
              "      <th>2020-04-08</th>\n",
              "      <td>506</td>\n",
              "    </tr>\n",
              "  </tbody>\n",
              "</table>\n",
              "<p>75 rows × 1 columns</p>\n",
              "</div>"
            ],
            "text/plain": [
              "            deaths\n",
              "date              \n",
              "2020-01-25       0\n",
              "2020-01-26       0\n",
              "2020-01-27       0\n",
              "2020-01-28       0\n",
              "2020-01-29       0\n",
              "...            ...\n",
              "2020-04-04     323\n",
              "2020-04-05     349\n",
              "2020-04-06     386\n",
              "2020-04-07     447\n",
              "2020-04-08     506\n",
              "\n",
              "[75 rows x 1 columns]"
            ]
          },
          "metadata": {
            "tags": []
          },
          "execution_count": 39
        }
      ]
    },
    {
      "cell_type": "code",
      "metadata": {
        "id": "9XZWL7wiafes",
        "colab_type": "code",
        "outputId": "3e398b5d-9222-4341-f50f-b3597750b512",
        "colab": {
          "base_uri": "https://localhost:8080/",
          "height": 450
        }
      },
      "source": [
        "# Compute daily deaths of California\n",
        "california_daily_deaths = california_deaths.copy()\n",
        "\n",
        "last_day_deaths = 0\n",
        "for i, row in california_deaths.iterrows():\n",
        "  california_daily_deaths.at[i, 'deaths'] = row.deaths - last_day_deaths\n",
        "  last_day_deaths = row.deaths\n",
        "\n",
        "california_daily_deaths\n",
        "\n",
        "# Rename the column \n",
        "california_daily_deaths.rename(columns={'deaths':'d_deaths'})"
      ],
      "execution_count": 0,
      "outputs": [
        {
          "output_type": "execute_result",
          "data": {
            "text/html": [
              "<div>\n",
              "<style scoped>\n",
              "    .dataframe tbody tr th:only-of-type {\n",
              "        vertical-align: middle;\n",
              "    }\n",
              "\n",
              "    .dataframe tbody tr th {\n",
              "        vertical-align: top;\n",
              "    }\n",
              "\n",
              "    .dataframe thead th {\n",
              "        text-align: right;\n",
              "    }\n",
              "</style>\n",
              "<table border=\"1\" class=\"dataframe\">\n",
              "  <thead>\n",
              "    <tr style=\"text-align: right;\">\n",
              "      <th></th>\n",
              "      <th>d_deaths</th>\n",
              "    </tr>\n",
              "    <tr>\n",
              "      <th>date</th>\n",
              "      <th></th>\n",
              "    </tr>\n",
              "  </thead>\n",
              "  <tbody>\n",
              "    <tr>\n",
              "      <th>2020-01-25</th>\n",
              "      <td>0</td>\n",
              "    </tr>\n",
              "    <tr>\n",
              "      <th>2020-01-26</th>\n",
              "      <td>0</td>\n",
              "    </tr>\n",
              "    <tr>\n",
              "      <th>2020-01-27</th>\n",
              "      <td>0</td>\n",
              "    </tr>\n",
              "    <tr>\n",
              "      <th>2020-01-28</th>\n",
              "      <td>0</td>\n",
              "    </tr>\n",
              "    <tr>\n",
              "      <th>2020-01-29</th>\n",
              "      <td>0</td>\n",
              "    </tr>\n",
              "    <tr>\n",
              "      <th>...</th>\n",
              "      <td>...</td>\n",
              "    </tr>\n",
              "    <tr>\n",
              "      <th>2020-04-04</th>\n",
              "      <td>41</td>\n",
              "    </tr>\n",
              "    <tr>\n",
              "      <th>2020-04-05</th>\n",
              "      <td>26</td>\n",
              "    </tr>\n",
              "    <tr>\n",
              "      <th>2020-04-06</th>\n",
              "      <td>37</td>\n",
              "    </tr>\n",
              "    <tr>\n",
              "      <th>2020-04-07</th>\n",
              "      <td>61</td>\n",
              "    </tr>\n",
              "    <tr>\n",
              "      <th>2020-04-08</th>\n",
              "      <td>59</td>\n",
              "    </tr>\n",
              "  </tbody>\n",
              "</table>\n",
              "<p>75 rows × 1 columns</p>\n",
              "</div>"
            ],
            "text/plain": [
              "            d_deaths\n",
              "date                \n",
              "2020-01-25         0\n",
              "2020-01-26         0\n",
              "2020-01-27         0\n",
              "2020-01-28         0\n",
              "2020-01-29         0\n",
              "...              ...\n",
              "2020-04-04        41\n",
              "2020-04-05        26\n",
              "2020-04-06        37\n",
              "2020-04-07        61\n",
              "2020-04-08        59\n",
              "\n",
              "[75 rows x 1 columns]"
            ]
          },
          "metadata": {
            "tags": []
          },
          "execution_count": 40
        }
      ]
    },
    {
      "cell_type": "code",
      "metadata": {
        "id": "z9Y2BMy3GNHe",
        "colab_type": "code",
        "outputId": "4e29ada2-8ddd-4444-f5cb-c7f46aca3a18",
        "colab": {
          "base_uri": "https://localhost:8080/",
          "height": 450
        }
      },
      "source": [
        "# Merge the dataframe of California with d_cases and d_deaths\n",
        "cal_df = pd.merge(california_data, california_daily_cases, how='left', on='date')\n",
        "cal_df = pd.merge(cal_df, california_daily_deaths, how='left', on='date')\n",
        "cal_df = cal_df.rename(columns={'cases_x':'cases', 'deaths_x':'deaths','cases_y':'d_cases','deaths_y':'d_deaths'})\n",
        "cal_df"
      ],
      "execution_count": 0,
      "outputs": [
        {
          "output_type": "execute_result",
          "data": {
            "text/html": [
              "<div>\n",
              "<style scoped>\n",
              "    .dataframe tbody tr th:only-of-type {\n",
              "        vertical-align: middle;\n",
              "    }\n",
              "\n",
              "    .dataframe tbody tr th {\n",
              "        vertical-align: top;\n",
              "    }\n",
              "\n",
              "    .dataframe thead th {\n",
              "        text-align: right;\n",
              "    }\n",
              "</style>\n",
              "<table border=\"1\" class=\"dataframe\">\n",
              "  <thead>\n",
              "    <tr style=\"text-align: right;\">\n",
              "      <th></th>\n",
              "      <th>state</th>\n",
              "      <th>fips</th>\n",
              "      <th>cases</th>\n",
              "      <th>deaths</th>\n",
              "      <th>d_cases</th>\n",
              "      <th>d_deaths</th>\n",
              "    </tr>\n",
              "    <tr>\n",
              "      <th>date</th>\n",
              "      <th></th>\n",
              "      <th></th>\n",
              "      <th></th>\n",
              "      <th></th>\n",
              "      <th></th>\n",
              "      <th></th>\n",
              "    </tr>\n",
              "  </thead>\n",
              "  <tbody>\n",
              "    <tr>\n",
              "      <th>2020-01-25</th>\n",
              "      <td>California</td>\n",
              "      <td>6</td>\n",
              "      <td>1</td>\n",
              "      <td>0</td>\n",
              "      <td>1</td>\n",
              "      <td>0</td>\n",
              "    </tr>\n",
              "    <tr>\n",
              "      <th>2020-01-26</th>\n",
              "      <td>California</td>\n",
              "      <td>6</td>\n",
              "      <td>2</td>\n",
              "      <td>0</td>\n",
              "      <td>1</td>\n",
              "      <td>0</td>\n",
              "    </tr>\n",
              "    <tr>\n",
              "      <th>2020-01-27</th>\n",
              "      <td>California</td>\n",
              "      <td>6</td>\n",
              "      <td>2</td>\n",
              "      <td>0</td>\n",
              "      <td>0</td>\n",
              "      <td>0</td>\n",
              "    </tr>\n",
              "    <tr>\n",
              "      <th>2020-01-28</th>\n",
              "      <td>California</td>\n",
              "      <td>6</td>\n",
              "      <td>2</td>\n",
              "      <td>0</td>\n",
              "      <td>0</td>\n",
              "      <td>0</td>\n",
              "    </tr>\n",
              "    <tr>\n",
              "      <th>2020-01-29</th>\n",
              "      <td>California</td>\n",
              "      <td>6</td>\n",
              "      <td>2</td>\n",
              "      <td>0</td>\n",
              "      <td>0</td>\n",
              "      <td>0</td>\n",
              "    </tr>\n",
              "    <tr>\n",
              "      <th>...</th>\n",
              "      <td>...</td>\n",
              "      <td>...</td>\n",
              "      <td>...</td>\n",
              "      <td>...</td>\n",
              "      <td>...</td>\n",
              "      <td>...</td>\n",
              "    </tr>\n",
              "    <tr>\n",
              "      <th>2020-04-04</th>\n",
              "      <td>California</td>\n",
              "      <td>6</td>\n",
              "      <td>13796</td>\n",
              "      <td>323</td>\n",
              "      <td>1227</td>\n",
              "      <td>41</td>\n",
              "    </tr>\n",
              "    <tr>\n",
              "      <th>2020-04-05</th>\n",
              "      <td>California</td>\n",
              "      <td>6</td>\n",
              "      <td>15076</td>\n",
              "      <td>349</td>\n",
              "      <td>1280</td>\n",
              "      <td>26</td>\n",
              "    </tr>\n",
              "    <tr>\n",
              "      <th>2020-04-06</th>\n",
              "      <td>California</td>\n",
              "      <td>6</td>\n",
              "      <td>16284</td>\n",
              "      <td>386</td>\n",
              "      <td>1208</td>\n",
              "      <td>37</td>\n",
              "    </tr>\n",
              "    <tr>\n",
              "      <th>2020-04-07</th>\n",
              "      <td>California</td>\n",
              "      <td>6</td>\n",
              "      <td>17540</td>\n",
              "      <td>447</td>\n",
              "      <td>1256</td>\n",
              "      <td>61</td>\n",
              "    </tr>\n",
              "    <tr>\n",
              "      <th>2020-04-08</th>\n",
              "      <td>California</td>\n",
              "      <td>6</td>\n",
              "      <td>19043</td>\n",
              "      <td>506</td>\n",
              "      <td>1503</td>\n",
              "      <td>59</td>\n",
              "    </tr>\n",
              "  </tbody>\n",
              "</table>\n",
              "<p>75 rows × 6 columns</p>\n",
              "</div>"
            ],
            "text/plain": [
              "                 state  fips  cases  deaths  d_cases  d_deaths\n",
              "date                                                          \n",
              "2020-01-25  California     6      1       0        1         0\n",
              "2020-01-26  California     6      2       0        1         0\n",
              "2020-01-27  California     6      2       0        0         0\n",
              "2020-01-28  California     6      2       0        0         0\n",
              "2020-01-29  California     6      2       0        0         0\n",
              "...                ...   ...    ...     ...      ...       ...\n",
              "2020-04-04  California     6  13796     323     1227        41\n",
              "2020-04-05  California     6  15076     349     1280        26\n",
              "2020-04-06  California     6  16284     386     1208        37\n",
              "2020-04-07  California     6  17540     447     1256        61\n",
              "2020-04-08  California     6  19043     506     1503        59\n",
              "\n",
              "[75 rows x 6 columns]"
            ]
          },
          "metadata": {
            "tags": []
          },
          "execution_count": 41
        }
      ]
    },
    {
      "cell_type": "code",
      "metadata": {
        "id": "IxMSh054uqA1",
        "colab_type": "code",
        "outputId": "7b16162c-7efc-45cd-91b3-f58bc48e358d",
        "colab": {
          "base_uri": "https://localhost:8080/",
          "height": 51
        }
      },
      "source": [
        "# The date with highest cases\n",
        "max_idx1 = cal_df.d_cases.idxmax()\n",
        "\n",
        "# The date with highest deaths\n",
        "max_idx2 = cal_df.d_deaths.idxmax()\n",
        "\n",
        "print('The date with highest cases in CA',max_idx1)\n",
        "print('The date with highest deaths in CA',max_idx2)"
      ],
      "execution_count": 0,
      "outputs": [
        {
          "output_type": "stream",
          "text": [
            "The date with highest cases in CA 2020-04-08 00:00:00\n",
            "The date with highest deaths in CA 2020-04-07 00:00:00\n"
          ],
          "name": "stdout"
        }
      ]
    },
    {
      "cell_type": "markdown",
      "metadata": {
        "id": "69KoHVLPhxvr",
        "colab_type": "text"
      },
      "source": [
        "### Plot the data of California"
      ]
    },
    {
      "cell_type": "code",
      "metadata": {
        "id": "L8TN6ACth29i",
        "colab_type": "code",
        "outputId": "02351882-ae91-453f-88ef-9aef1e95e25e",
        "colab": {
          "base_uri": "https://localhost:8080/",
          "height": 353
        }
      },
      "source": [
        "# Show the cumulative data of cases in California\n",
        "sns.set(style='white', palette='muted', color_codes=True)\n",
        "california_cases.plot(title = 'Cumulative Cases in California', linestyle='dashed', color='b', marker='o')\n",
        "plt.xlabel('Date')\n",
        "plt.ylabel('Cumulative Cases')\n",
        "plt.legend(loc = 'upper left')"
      ],
      "execution_count": 0,
      "outputs": [
        {
          "output_type": "execute_result",
          "data": {
            "text/plain": [
              "<matplotlib.legend.Legend at 0x7f7a70fe5780>"
            ]
          },
          "metadata": {
            "tags": []
          },
          "execution_count": 43
        },
        {
          "output_type": "display_data",
          "data": {
            "image/png": "[encoded data removed]",
            "text/plain": [
              "<Figure size 432x288 with 1 Axes>"
            ]
          },
          "metadata": {
            "tags": []
          }
        }
      ]
    },
    {
      "cell_type": "code",
      "metadata": {
        "id": "Qpp93ybuE2mT",
        "colab_type": "code",
        "outputId": "221f6d8c-b56b-44d6-ca45-4c0295378192",
        "colab": {
          "base_uri": "https://localhost:8080/",
          "height": 353
        }
      },
      "source": [
        "# Show the cumulative data of deaths in California\n",
        "sns.set(style='white', palette='muted', color_codes=True)\n",
        "california_deaths.plot(title = 'Culmulative Deaths in California', linestyle='dashed', color='k', marker='o')\n",
        "plt.xlabel('Date')\n",
        "plt.ylabel('Cumulative Deaths')\n",
        "plt.legend(loc = 'upper left')"
      ],
      "execution_count": 0,
      "outputs": [
        {
          "output_type": "execute_result",
          "data": {
            "text/plain": [
              "<matplotlib.legend.Legend at 0x7f7a71078b70>"
            ]
          },
          "metadata": {
            "tags": []
          },
          "execution_count": 44
        },
        {
          "output_type": "display_data",
          "data": {
            "image/png": "[encoded data removed]",
            "text/plain": [
              "<Figure size 432x288 with 1 Axes>"
            ]
          },
          "metadata": {
            "tags": []
          }
        }
      ]
    },
    {
      "cell_type": "code",
      "metadata": {
        "id": "DlPVy1hisLgk",
        "colab_type": "code",
        "outputId": "24cb140a-f03a-44e9-90a0-324824816e48",
        "colab": {
          "base_uri": "https://localhost:8080/",
          "height": 353
        }
      },
      "source": [
        "# Show the daily data of cases in California\n",
        "sns.set(style='white', palette='muted', color_codes=True)\n",
        "california_daily_cases.plot(title = 'Daily Cases in California', color='b')\n",
        "plt.xlabel('Date')\n",
        "plt.ylabel('Daily Cases')\n",
        "plt.legend(loc = 'upper left')"
      ],
      "execution_count": 0,
      "outputs": [
        {
          "output_type": "execute_result",
          "data": {
            "text/plain": [
              "<matplotlib.legend.Legend at 0x7f7a70fac3c8>"
            ]
          },
          "metadata": {
            "tags": []
          },
          "execution_count": 45
        },
        {
          "output_type": "display_data",
          "data": {
            "image/png": "[encoded data removed]",
            "text/plain": [
              "<Figure size 432x288 with 1 Axes>"
            ]
          },
          "metadata": {
            "tags": []
          }
        }
      ]
    },
    {
      "cell_type": "code",
      "metadata": {
        "id": "3a6J4YC0x9fL",
        "colab_type": "code",
        "outputId": "2989eb15-9d41-4f38-e100-a0ef97eebc00",
        "colab": {
          "base_uri": "https://localhost:8080/",
          "height": 423
        }
      },
      "source": [
        "# Emphasize the Daily cases growth by showing both sides of the Y axis\n",
        "cal_df1 = cal_df.reset_index()\n",
        "x = cal_df1['date'].values\n",
        "y1 = cal_df1['d_cases'].values\n",
        "\n",
        "fig, ax = plt.subplots(1, 1, figsize=(18,8), dpi= 60)\n",
        "plt.fill_between(x, y1=y1, y2=-y1, alpha=0.5, linewidth=2, color='seagreen')\n",
        "plt.ylim(-2000, 2000)\n",
        "plt.title('CA Daily Cases Increase Trend', fontsize=16)\n",
        "plt.hlines(y=0, xmin=np.min(cal_df1.date), xmax=np.max(cal_df1.date), linewidth=.5)\n",
        "plt.show()"
      ],
      "execution_count": 0,
      "outputs": [
        {
          "output_type": "display_data",
          "data": {
            "image/png": "[encoded data removed]",
            "text/plain": [
              "<Figure size 1080x480 with 1 Axes>"
            ]
          },
          "metadata": {
            "tags": []
          }
        }
      ]
    },
    {
      "cell_type": "code",
      "metadata": {
        "id": "ITKW_VWrYv7S",
        "colab_type": "code",
        "outputId": "1501dc06-6ca2-4a3f-81c5-de001bd37828",
        "colab": {
          "base_uri": "https://localhost:8080/",
          "height": 353
        }
      },
      "source": [
        "# Show the daily data of deaths in California\n",
        "sns.set(style='white', palette='muted', color_codes=True)\n",
        "california_daily_deaths.plot(title = 'Daily Deaths in California', color='k')\n",
        "plt.xlabel('Date')\n",
        "plt.ylabel('Daily Deaths')\n",
        "plt.legend(loc = 'upper left')"
      ],
      "execution_count": 0,
      "outputs": [
        {
          "output_type": "execute_result",
          "data": {
            "text/plain": [
              "<matplotlib.legend.Legend at 0x7f7a71024828>"
            ]
          },
          "metadata": {
            "tags": []
          },
          "execution_count": 47
        },
        {
          "output_type": "display_data",
          "data": {
            "image/png": "[encoded data removed]",
            "text/plain": [
              "<Figure size 432x288 with 1 Axes>"
            ]
          },
          "metadata": {
            "tags": []
          }
        }
      ]
    },
    {
      "cell_type": "code",
      "metadata": {
        "id": "f77QDRm1zKIU",
        "colab_type": "code",
        "outputId": "bfbf961d-ff28-485c-f350-1aa8a7d060ad",
        "colab": {
          "base_uri": "https://localhost:8080/",
          "height": 423
        }
      },
      "source": [
        "# Emphasize the Daily deaths growth by showing both sides of the Y axis\n",
        "x = cal_df1['date'].values\n",
        "y1 = cal_df1['d_deaths'].values\n",
        "\n",
        "fig, ax = plt.subplots(1, 1, figsize=(18,8), dpi= 60)\n",
        "plt.fill_between(x, y1=y1, y2=-y1, alpha=0.5, linewidth=2, color='black')\n",
        "plt.ylim(-2000, 2000)\n",
        "plt.title('CA Daily Deaths Increase Trend', fontsize=16)\n",
        "plt.hlines(y=0, xmin=np.min(cal_df1.date), xmax=np.max(cal_df1.date), linewidth=.5)\n",
        "plt.show()"
      ],
      "execution_count": 0,
      "outputs": [
        {
          "output_type": "display_data",
          "data": {
            "image/png": "[encoded data removed]",
            "text/plain": [
              "<Figure size 1080x480 with 1 Axes>"
            ]
          },
          "metadata": {
            "tags": []
          }
        }
      ]
    },
    {
      "cell_type": "markdown",
      "metadata": {
        "id": "r6TmbGz2Aqh8",
        "colab_type": "text"
      },
      "source": [
        "### Comparison between New York and California"
      ]
    },
    {
      "cell_type": "code",
      "metadata": {
        "id": "u-kEpb-Ad_WS",
        "colab_type": "code",
        "outputId": "73c02e4b-6454-4379-8c20-c0438ca3cd3c",
        "colab": {
          "base_uri": "https://localhost:8080/",
          "height": 390
        }
      },
      "source": [
        "# Merge New York and California dataframe\n",
        "merge_df = pd.merge(ny_df, cal_df, how='left', on='date')\n",
        "df = merge_df.rename(columns={'cases_x':'ny_cases', 'deaths_x':'ny_deaths','d_cases_x':'ny_d_cases','d_deaths_x':'ny_d_deaths',\n",
        "                         'cases_y':'cal_cases', 'deaths_y':'cal_deaths', 'd_cases_y':'cal_d_cases', 'd_deaths_y':'cal_d_deaths'})\n",
        "df.tail(10)"
      ],
      "execution_count": 0,
      "outputs": [
        {
          "output_type": "execute_result",
          "data": {
            "text/html": [
              "<div>\n",
              "<style scoped>\n",
              "    .dataframe tbody tr th:only-of-type {\n",
              "        vertical-align: middle;\n",
              "    }\n",
              "\n",
              "    .dataframe tbody tr th {\n",
              "        vertical-align: top;\n",
              "    }\n",
              "\n",
              "    .dataframe thead th {\n",
              "        text-align: right;\n",
              "    }\n",
              "</style>\n",
              "<table border=\"1\" class=\"dataframe\">\n",
              "  <thead>\n",
              "    <tr style=\"text-align: right;\">\n",
              "      <th></th>\n",
              "      <th>state_x</th>\n",
              "      <th>fips_x</th>\n",
              "      <th>ny_cases</th>\n",
              "      <th>ny_deaths</th>\n",
              "      <th>ny_d_cases</th>\n",
              "      <th>ny_d_deaths</th>\n",
              "      <th>state_y</th>\n",
              "      <th>fips_y</th>\n",
              "      <th>cal_cases</th>\n",
              "      <th>cal_deaths</th>\n",
              "      <th>cal_d_cases</th>\n",
              "      <th>cal_d_deaths</th>\n",
              "    </tr>\n",
              "    <tr>\n",
              "      <th>date</th>\n",
              "      <th></th>\n",
              "      <th></th>\n",
              "      <th></th>\n",
              "      <th></th>\n",
              "      <th></th>\n",
              "      <th></th>\n",
              "      <th></th>\n",
              "      <th></th>\n",
              "      <th></th>\n",
              "      <th></th>\n",
              "      <th></th>\n",
              "      <th></th>\n",
              "    </tr>\n",
              "  </thead>\n",
              "  <tbody>\n",
              "    <tr>\n",
              "      <th>2020-03-30</th>\n",
              "      <td>New York</td>\n",
              "      <td>36</td>\n",
              "      <td>67174</td>\n",
              "      <td>1224</td>\n",
              "      <td>7606</td>\n",
              "      <td>259</td>\n",
              "      <td>California</td>\n",
              "      <td>6</td>\n",
              "      <td>7421</td>\n",
              "      <td>146</td>\n",
              "      <td>1155</td>\n",
              "      <td>16</td>\n",
              "    </tr>\n",
              "    <tr>\n",
              "      <th>2020-03-31</th>\n",
              "      <td>New York</td>\n",
              "      <td>36</td>\n",
              "      <td>75832</td>\n",
              "      <td>1550</td>\n",
              "      <td>8658</td>\n",
              "      <td>326</td>\n",
              "      <td>California</td>\n",
              "      <td>6</td>\n",
              "      <td>8582</td>\n",
              "      <td>183</td>\n",
              "      <td>1161</td>\n",
              "      <td>37</td>\n",
              "    </tr>\n",
              "    <tr>\n",
              "      <th>2020-04-01</th>\n",
              "      <td>New York</td>\n",
              "      <td>36</td>\n",
              "      <td>83889</td>\n",
              "      <td>1941</td>\n",
              "      <td>8057</td>\n",
              "      <td>391</td>\n",
              "      <td>California</td>\n",
              "      <td>6</td>\n",
              "      <td>9816</td>\n",
              "      <td>212</td>\n",
              "      <td>1234</td>\n",
              "      <td>29</td>\n",
              "    </tr>\n",
              "    <tr>\n",
              "      <th>2020-04-02</th>\n",
              "      <td>New York</td>\n",
              "      <td>36</td>\n",
              "      <td>92770</td>\n",
              "      <td>2653</td>\n",
              "      <td>8881</td>\n",
              "      <td>712</td>\n",
              "      <td>California</td>\n",
              "      <td>6</td>\n",
              "      <td>11190</td>\n",
              "      <td>247</td>\n",
              "      <td>1374</td>\n",
              "      <td>35</td>\n",
              "    </tr>\n",
              "    <tr>\n",
              "      <th>2020-04-03</th>\n",
              "      <td>New York</td>\n",
              "      <td>36</td>\n",
              "      <td>102870</td>\n",
              "      <td>2935</td>\n",
              "      <td>10100</td>\n",
              "      <td>282</td>\n",
              "      <td>California</td>\n",
              "      <td>6</td>\n",
              "      <td>12569</td>\n",
              "      <td>282</td>\n",
              "      <td>1379</td>\n",
              "      <td>35</td>\n",
              "    </tr>\n",
              "    <tr>\n",
              "      <th>2020-04-04</th>\n",
              "      <td>New York</td>\n",
              "      <td>36</td>\n",
              "      <td>114996</td>\n",
              "      <td>3568</td>\n",
              "      <td>12126</td>\n",
              "      <td>633</td>\n",
              "      <td>California</td>\n",
              "      <td>6</td>\n",
              "      <td>13796</td>\n",
              "      <td>323</td>\n",
              "      <td>1227</td>\n",
              "      <td>41</td>\n",
              "    </tr>\n",
              "    <tr>\n",
              "      <th>2020-04-05</th>\n",
              "      <td>New York</td>\n",
              "      <td>36</td>\n",
              "      <td>122911</td>\n",
              "      <td>4161</td>\n",
              "      <td>7915</td>\n",
              "      <td>593</td>\n",
              "      <td>California</td>\n",
              "      <td>6</td>\n",
              "      <td>15076</td>\n",
              "      <td>349</td>\n",
              "      <td>1280</td>\n",
              "      <td>26</td>\n",
              "    </tr>\n",
              "    <tr>\n",
              "      <th>2020-04-06</th>\n",
              "      <td>New York</td>\n",
              "      <td>36</td>\n",
              "      <td>130703</td>\n",
              "      <td>4758</td>\n",
              "      <td>7792</td>\n",
              "      <td>597</td>\n",
              "      <td>California</td>\n",
              "      <td>6</td>\n",
              "      <td>16284</td>\n",
              "      <td>386</td>\n",
              "      <td>1208</td>\n",
              "      <td>37</td>\n",
              "    </tr>\n",
              "    <tr>\n",
              "      <th>2020-04-07</th>\n",
              "      <td>New York</td>\n",
              "      <td>36</td>\n",
              "      <td>140081</td>\n",
              "      <td>5563</td>\n",
              "      <td>9378</td>\n",
              "      <td>805</td>\n",
              "      <td>California</td>\n",
              "      <td>6</td>\n",
              "      <td>17540</td>\n",
              "      <td>447</td>\n",
              "      <td>1256</td>\n",
              "      <td>61</td>\n",
              "    </tr>\n",
              "    <tr>\n",
              "      <th>2020-04-08</th>\n",
              "      <td>New York</td>\n",
              "      <td>36</td>\n",
              "      <td>149401</td>\n",
              "      <td>6268</td>\n",
              "      <td>9320</td>\n",
              "      <td>705</td>\n",
              "      <td>California</td>\n",
              "      <td>6</td>\n",
              "      <td>19043</td>\n",
              "      <td>506</td>\n",
              "      <td>1503</td>\n",
              "      <td>59</td>\n",
              "    </tr>\n",
              "  </tbody>\n",
              "</table>\n",
              "</div>"
            ],
            "text/plain": [
              "             state_x  fips_x  ny_cases  ...  cal_deaths  cal_d_cases  cal_d_deaths\n",
              "date                                    ...                                       \n",
              "2020-03-30  New York      36     67174  ...         146         1155            16\n",
              "2020-03-31  New York      36     75832  ...         183         1161            37\n",
              "2020-04-01  New York      36     83889  ...         212         1234            29\n",
              "2020-04-02  New York      36     92770  ...         247         1374            35\n",
              "2020-04-03  New York      36    102870  ...         282         1379            35\n",
              "2020-04-04  New York      36    114996  ...         323         1227            41\n",
              "2020-04-05  New York      36    122911  ...         349         1280            26\n",
              "2020-04-06  New York      36    130703  ...         386         1208            37\n",
              "2020-04-07  New York      36    140081  ...         447         1256            61\n",
              "2020-04-08  New York      36    149401  ...         506         1503            59\n",
              "\n",
              "[10 rows x 12 columns]"
            ]
          },
          "metadata": {
            "tags": []
          },
          "execution_count": 49
        }
      ]
    },
    {
      "cell_type": "code",
      "metadata": {
        "id": "OvthFF-gAxS9",
        "colab_type": "code",
        "outputId": "b9be2081-e79d-4369-c83d-b2f04b4336df",
        "colab": {
          "base_uri": "https://localhost:8080/",
          "height": 570
        }
      },
      "source": [
        "# Create a figure and a set of subplots\n",
        "fig, axes = plt.subplots(nrows=1, ncols=2, figsize=(12,8))\n",
        "\n",
        "# Comparison between New York and California culmulative cases\n",
        "sns.set(style='white', palette='muted', color_codes=True)\n",
        "df1 = df[['state_x','ny_cases','state_y','cal_cases']]\n",
        "df1.plot.area(ax=axes[0], title='NY and CA Cumulative Cases',stacked= False,alpha=0.6)\n",
        "\n",
        "# Comparison between New York and California culmulative deaths\n",
        "sns.set(style='white', palette='muted', color_codes=True)\n",
        "df2 = df[['state_x','ny_deaths','state_y','cal_deaths']]\n",
        "df2.plot.area(ax=axes[1],title = 'NY and CA Cumulative Deaths',stacked= False,alpha=0.6)"
      ],
      "execution_count": 0,
      "outputs": [
        {
          "output_type": "execute_result",
          "data": {
            "text/plain": [
              "<matplotlib.axes._subplots.AxesSubplot at 0x7f7a7109ea90>"
            ]
          },
          "metadata": {
            "tags": []
          },
          "execution_count": 50
        },
        {
          "output_type": "display_data",
          "data": {
            "image/png": "[encoded data removed]",
            "text/plain": [
              "<Figure size 864x576 with 2 Axes>"
            ]
          },
          "metadata": {
            "tags": []
          }
        }
      ]
    },
    {
      "cell_type": "code",
      "metadata": {
        "id": "sNvkPsU5XTp9",
        "colab_type": "code",
        "outputId": "bdd18a5a-6d0e-4380-fbf4-6e8cb3fa4626",
        "colab": {
          "base_uri": "https://localhost:8080/",
          "height": 570
        }
      },
      "source": [
        "# Create a figure and a set of subplots\n",
        "fig, axes = plt.subplots(nrows=1, ncols=2, figsize=(12,8))\n",
        "\n",
        "# Comparison between New York and California daily cases \n",
        "sns.set(style='white', palette='muted', color_codes=True)\n",
        "df1 = df[['state_x','ny_d_cases','state_y','cal_d_cases']]\n",
        "df1.plot.area(ax=axes[0], title='NY and CA Daily Cases',stacked= False,alpha=0.6)\n",
        "\n",
        "# Comparison between New York and California daily deaths\n",
        "sns.set(style='white', palette='muted', color_codes=True)\n",
        "df2 = df[['state_x','ny_d_deaths','state_y','cal_d_deaths']]\n",
        "df2.plot.area(ax=axes[1],title = 'NY and CA Daily Deaths',stacked= False,alpha=0.6)"
      ],
      "execution_count": 0,
      "outputs": [
        {
          "output_type": "execute_result",
          "data": {
            "text/plain": [
              "<matplotlib.axes._subplots.AxesSubplot at 0x7f7a70ad8208>"
            ]
          },
          "metadata": {
            "tags": []
          },
          "execution_count": 51
        },
        {
          "output_type": "display_data",
          "data": {
            "image/png": "[encoded data removed]",
            "text/plain": [
              "<Figure size 864x576 with 2 Axes>"
            ]
          },
          "metadata": {
            "tags": []
          }
        }
      ]
    },
    {
      "cell_type": "code",
      "metadata": {
        "id": "UzDHUqpsw5Wk",
        "colab_type": "code",
        "outputId": "df8f60b0-7291-4f88-8832-6157924bf323",
        "colab": {
          "base_uri": "https://localhost:8080/",
          "height": 85
        }
      },
      "source": [
        "# Compute the mean and standard deviation of daily cases and deaths in NY\n",
        "print('Mean of NY Daily cases:', df['ny_d_cases'].mean())\n",
        "print('Mean of NY Daily deaths:', df['ny_d_deaths'].mean())\n",
        "print('Standard Deviation of NY Daily cases:', df['ny_d_cases'].std())\n",
        "print('Standard Deviation of NY Daily deaths:', df['ny_d_deaths'].std())"
      ],
      "execution_count": 0,
      "outputs": [
        {
          "output_type": "stream",
          "text": [
            "Mean of NY Daily cases: 3830.7948717948716\n",
            "Mean of NY Daily deaths: 160.71794871794873\n",
            "Standard Deviation of NY Daily cases: 3941.429437329393\n",
            "Standard Deviation of NY Daily deaths: 245.76378782523642\n"
          ],
          "name": "stdout"
        }
      ]
    },
    {
      "cell_type": "code",
      "metadata": {
        "id": "xl0936Bp3Jvv",
        "colab_type": "code",
        "outputId": "c0f782b3-0bd9-4cf7-f24c-0f292414feda",
        "colab": {
          "base_uri": "https://localhost:8080/",
          "height": 85
        }
      },
      "source": [
        "# Compute the mean and standard deviation of daily cases and deaths in CA\n",
        "print('Mean of CA Daily cases:', df['cal_d_cases'].mean())\n",
        "print('Mean of CA Daily deaths:', df['cal_d_deaths'].mean())\n",
        "print('Standard Deviation of CA Daily cases:', df['cal_d_cases'].std())\n",
        "print('Standard Deviation of CA Daily deaths:', df['cal_d_deaths'].std())"
      ],
      "execution_count": 0,
      "outputs": [
        {
          "output_type": "stream",
          "text": [
            "Mean of CA Daily cases: 487.56410256410254\n",
            "Mean of CA Daily deaths: 12.974358974358974\n",
            "Standard Deviation of CA Daily cases: 525.7867686105118\n",
            "Standard Deviation of CA Daily deaths: 16.935616750205806\n"
          ],
          "name": "stdout"
        }
      ]
    },
    {
      "cell_type": "markdown",
      "metadata": {
        "id": "F6jL63e1eDzC",
        "colab_type": "text"
      },
      "source": [
        "### Scatter plot with linear regression line of best fit"
      ]
    },
    {
      "cell_type": "code",
      "metadata": {
        "id": "5DGTsEvSV0Pf",
        "colab_type": "code",
        "outputId": "4d6d9baf-8142-4193-c311-8d6a937e590d",
        "colab": {
          "base_uri": "https://localhost:8080/",
          "height": 387
        }
      },
      "source": [
        "# Find if there is correlation between NY cases and deaths\n",
        "sns.lmplot(x ='cases', y='deaths', hue ='state', data= ny_df[['state','cases','deaths']],\n",
        "                     height=5, aspect=1.5, robust=True, palette='tab10',\n",
        "                     scatter_kws= dict(s=60, linewidths=.7, edgecolors='yellow'), legend=False)\n",
        "plt.legend(loc='upper left')\n",
        "plt.title('Correlation Between NY cases and deaths', fontsize=22)\n",
        "plt.show()"
      ],
      "execution_count": 0,
      "outputs": [
        {
          "output_type": "display_data",
          "data": {
            "image/png": "[encoded data removed]",
            "text/plain": [
              "<Figure size 540x360 with 1 Axes>"
            ]
          },
          "metadata": {
            "tags": []
          }
        }
      ]
    },
    {
      "cell_type": "code",
      "metadata": {
        "id": "m5MuVaRAZeWF",
        "colab_type": "code",
        "outputId": "d0acdb06-492e-42d6-b441-8112d194407c",
        "colab": {
          "base_uri": "https://localhost:8080/",
          "height": 387
        }
      },
      "source": [
        "# Find if there is correlation between NY cases and deaths\n",
        "sns.lmplot(x ='cases', y='deaths', hue ='state', data= cal_df[['state','cases','deaths']],\n",
        "                     height=5, aspect=1.5, robust=True, palette='tab10',\n",
        "                     scatter_kws= dict(s=60, linewidths=.7, edgecolors='yellow'), legend=False)\n",
        "plt.legend(loc='upper left')\n",
        "plt.title('Correlation Between CA cases and deaths', fontsize=22)\n",
        "plt.show()"
      ],
      "execution_count": 0,
      "outputs": [
        {
          "output_type": "display_data",
          "data": {
            "image/png": "[encoded data removed]",
            "text/plain": [
              "<Figure size 540x360 with 1 Axes>"
            ]
          },
          "metadata": {
            "tags": []
          }
        }
      ]
    },
    {
      "cell_type": "markdown",
      "metadata": {
        "id": "Xww8SoHx8KV9",
        "colab_type": "text"
      },
      "source": [
        "## Conclusion"
      ]
    },
    {
      "cell_type": "markdown",
      "metadata": {
        "id": "dyO6wYgE8Oew",
        "colab_type": "text"
      },
      "source": [
        "From the analysis above, we can find that New York state is the most severe. The cases and deaths increase fast from the end of March, and the amount is still growing. The growing speed in Calfornia is also fast but the amout is much fewer than New York. I predict that the amount of cases and deaths in NY and CA will still be high for a while, but eventually the growing trend will flatten. From the scatter plot and linear regression of best fit we can conclude that the more the amount of cases the more the amount of deaths. Prey for New York. Hope New York can defeat the COVID soon!\n"
      ]
    }
  ]
}